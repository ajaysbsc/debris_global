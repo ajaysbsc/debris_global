{
 "cells": [
  {
   "cell_type": "code",
   "execution_count": 1,
   "metadata": {},
   "outputs": [],
   "source": [
    "#! /usr/bin/env python\n",
    "\"\"\"\n",
    "There is a small subset of glaciers for which surface temperature data was not available during the ablation season.\n",
    "For these glaciers, we utilize a composite from all months to ensure we have complete glacier coverage.\n",
    "\"\"\"\n",
    "import sys\n",
    "import os\n",
    "import re\n",
    "import subprocess\n",
    "from datetime import datetime, timedelta\n",
    "import time\n",
    "import pickle\n",
    "from collections import OrderedDict\n",
    "\n",
    "import geopandas as gpd\n",
    "import matplotlib.pyplot as plt\n",
    "import numpy as np\n",
    "import pandas as pd\n",
    "import rasterio\n",
    "from rasterio.merge import merge\n",
    "from rasterio.warp import calculate_default_transform, reproject, Resampling\n",
    "from scipy import ndimage\n",
    "from scipy.optimize import curve_fit\n",
    "from scipy.optimize import minimize\n",
    "from scipy.stats import median_absolute_deviation\n",
    "import xarray as xr\n",
    "from osgeo import gdal, ogr, osr\n",
    "\n",
    "from pygeotools.lib import malib, warplib, geolib, iolib, timelib\n",
    "\n",
    "\n",
    "import debrisglobal.globaldebris_input as debris_prms\n",
    "from debrisglobal.glacfeat import GlacFeat, create_glacfeat\n",
    "from meltcurves import melt_fromdebris_func\n",
    "from meltcurves import debris_frommelt_func\n",
    "from spc_split_lists import split_list\n",
    "\n",
    "\n",
    "debug=False"
   ]
  },
  {
   "cell_type": "code",
   "execution_count": 2,
   "metadata": {},
   "outputs": [],
   "source": [
    "#Function to generate a 3-panel plot for input arrays\n",
    "def plot_array(dem, clim=None, titles=None, cmap='inferno', label=None, overlay=None, fn=None, close_fig=True):\n",
    "    fig, ax = plt.subplots(1,1, sharex=True, sharey=True, figsize=(10,5))\n",
    "    alpha = 1.0\n",
    "    #Gray background\n",
    "    ax.set_facecolor('0.5')\n",
    "    #Force aspect ratio to match images\n",
    "    ax.set(aspect='equal')\n",
    "    #Turn off axes labels/ticks\n",
    "    ax.get_xaxis().set_visible(False)\n",
    "    ax.get_yaxis().set_visible(False)\n",
    "    if titles is not None:\n",
    "        ax.set_title(titles[0])\n",
    "    #Plot background shaded relief map\n",
    "    if overlay is not None:\n",
    "        alpha = 0.7\n",
    "        ax.imshow(overlay, cmap='gray', clim=(1,255))\n",
    "    #Plot each array\n",
    "    im_list = [ax.imshow(dem, clim=clim, cmap=cmap, alpha=alpha)]\n",
    "    fig.tight_layout()\n",
    "    fig.colorbar(im_list[0], label=label, extend='both', shrink=0.5)\n",
    "    if fn is not None:\n",
    "        fig.savefig(fn, bbox_inches='tight', pad_inches=0, dpi=150)\n",
    "    if close_fig:\n",
    "        plt.close(fig)\n",
    "        \n",
    "        \n",
    "def maskedarray_gt(data, value):\n",
    "    \"\"\" Greater than operation on masked array to avoid warning errors \"\"\"\n",
    "    data = np.nan_to_num(data,0)\n",
    "    data[data > value] = value\n",
    "    return data\n",
    "\n",
    "\n",
    "def maskedarray_lt(data, value):\n",
    "    \"\"\" Less than operation on masked array to avoid warning errors \"\"\"\n",
    "    data = np.nan_to_num(data,0)\n",
    "    data[data < value] = value\n",
    "    return data\n",
    "\n",
    "\n",
    "def ts_fromdebris_func(h, a, b, c):\n",
    "    \"\"\" estimate surface temperature from debris thickness (h is debris thickness, a and k are coefficients) \n",
    "        Hill Equation\"\"\"\n",
    "    return a * h**c / (b**c + h**c)\n",
    "\n",
    "\n",
    "def debris_fromts_func(ts, a, b, c, hd_max=debris_prms.hd_max):\n",
    "    \"\"\" estimate debris thickness from surface temperature (ts is surface temperature, a and k are coefficients) \n",
    "        Hill Equation\"\"\"\n",
    "    # If temperature exceeds maximum of function cause NaN value\n",
    "    max_value = ts_fromdebris_func(50, a, b, c)\n",
    "    if ts.size == 1:\n",
    "        if ts > max_value:\n",
    "            ts = max_value\n",
    "        if ts < 0:\n",
    "            ts = 0\n",
    "    else:\n",
    "        ts[ts > a] = max_value\n",
    "        ts[ts < 0] = 0\n",
    "    # Debris thickness\n",
    "    hd = (ts * b**c / (a - ts))**(1/c)\n",
    "    return hd\n",
    "        \n",
    "    \n",
    "def debris_fromts_maskedarray(ts_raw, a, b, c):\n",
    "    \"\"\" Apply debris_fromts_func to masked array\n",
    "        includes a mask of maximum values, since Michaelis-Mentin Equation has natural maximum \n",
    "    Parameters\n",
    "    ----------\n",
    "    ts_raw : np.ma.array\n",
    "        masked array of the unmodified surface temperature\n",
    "    Returns\n",
    "    -------\n",
    "    hd : np.ma.array \n",
    "        masked array of the debris thickness (m)\n",
    "    \"\"\"\n",
    "    hd = debris_fromts_func(ts_raw.data, a, b, c)\n",
    "    return hd"
   ]
  },
  {
   "cell_type": "code",
   "execution_count": 3,
   "metadata": {},
   "outputs": [
    {
     "name": "stdout",
     "output_type": "stream",
     "text": [
      "1965 glaciers in region 3 are included in this model run: ['00093', '00094', '00095', '00096', '00097', '00098', '00099', '00100', '00102', '00103', '00104', '00105', '00106', '00107', '00108', '00109', '00110', '00113', '00114', '00115', '00116', '00117', '00118', '00120', '00123', '00124', '00125', '00126', '00128', '00129', '00130', '00131', '00132', '00133', '00134', '00135', '00136', '00137', '00139', '00140', '00141', '00142', '00143', '00144', '00145', '00146', '00147', '00148', '00150', '00151'] and more\n",
      "This study is focusing on 1965 glaciers in region [3]\n",
      "75 glaciers in region 3 are included in this model run: ['00527', '00718', '00923', '00928', '00937', '00945', '00987', '01005', '01192', '01210', '01341', '01354', '01476', '01479', '01586', '01603', '01616', '01669', '01675', '01701', '01705', '01739', '01756', '01885', '01889', '01891', '01907', '02143', '02147', '02149', '02168', '02184', '02260', '02268', '02272', '02273', '02282', '02295', '02296', '02298', '02300', '02304', '02320', '02352', '02355', '02365', '02385', '02397', '02410', '02418'] and more\n",
      "This study is focusing on 75 glaciers in region [3]\n",
      "1816 glaciers in region 3 are included in this model run: ['00093', '00094', '00095', '00096', '00097', '00098', '00099', '00100', '00102', '00103', '00104', '00105', '00106', '00107', '00109', '00110', '00114', '00115', '00116', '00117', '00118', '00120', '00124', '00125', '00126', '00128', '00129', '00130', '00131', '00132', '00133', '00134', '00135', '00136', '00137', '00139', '00140', '00141', '00142', '00143', '00144', '00145', '00146', '00147', '00148', '00150', '00151', '00152', '00153', '00155'] and more\n",
      "This study is focusing on 1816 glaciers in region [3]\n",
      "149 glaciers in region 3 are included in this model run: ['00108', '00113', '00123', '00175', '00183', '00237', '00283', '00366', '00419', '00832', '01405', '01408', '01412', '01416', '01422', '01444', '01446', '01447', '01482', '01483', '01493', '01496', '01499', '01501', '01502', '01506', '01509', '01514', '01516', '01517', '01519', '01520', '01522', '01523', '01525', '01527', '01529', '01530', '01533', '01535', '01544', '01555', '01564', '01565', '01566', '01570', '01571', '01575', '01576', '01577'] and more\n",
      "This study is focusing on 149 glaciers in region [3]\n"
     ]
    }
   ],
   "source": [
    "# ===== LOAD ALL GLACIERS =====\n",
    "# Debris cover extent shapefile with statistics\n",
    "dc_shp = gpd.read_file(debris_prms.debriscover_fp + debris_prms.debriscover_fn_dict[debris_prms.roi])\n",
    "dc_shp = dc_shp.sort_values(by=['RGIId'])\n",
    "dc_shp.reset_index(inplace=True, drop=True)\n",
    "dc_shp['CenLon_360'] = dc_shp['CenLon']\n",
    "dc_shp.loc[dc_shp['CenLon_360'] < 0, 'CenLon_360'] = 360 + dc_shp.loc[dc_shp['CenLon_360'] < 0, 'CenLon_360']\n",
    "\n",
    "# Add debris stats to area\n",
    "dc_areaperc_dict = dict(zip(dc_shp.RGIId.values,dc_shp['DC_Area__1'].values))\n",
    "dc_area_dict = dict(zip(dc_shp.RGIId.values,dc_shp['DC_Area_v2'].values))\n",
    "\n",
    "rgiid_list = [x.split('-')[1] for x in dc_shp['RGIId'].values]\n",
    "main_glac_rgi_all = debris_prms.selectglaciersrgitable(rgiid_list)\n",
    "\n",
    "# ===== DETERMINE ALL GLACIERS WITH AND WITHOUT OBSERVATIONS =====\n",
    "hdopt_prms_fp = debris_prms.output_fp + 'hd_opt_prms/' + debris_prms.roi + '/'\n",
    "\n",
    "# Glaciers optimized\n",
    "glac_tsopt_fns = []\n",
    "rgiid_list_tsopt = []\n",
    "for roi_extrap in debris_prms.roi_dict_extrap[debris_prms.roi]:\n",
    "    hdopt_prms_fp = debris_prms.output_fp + 'hd_opt_prms/' + roi_extrap + '/'\n",
    "    for i in os.listdir(hdopt_prms_fp):\n",
    "        if i.endswith('_hdopt_prms.csv'):\n",
    "            region = int(i.split('.')[0])\n",
    "            if region in debris_prms.roi_rgidict[roi_extrap]:    \n",
    "                rgiid_list_tsopt.append(i.split('_')[0])            \n",
    "                glac_tsopt_fns.append(i)\n",
    "\n",
    "glac_tsopt_fns = sorted(glac_tsopt_fns)\n",
    "rgiid_list_tsopt = sorted(rgiid_list_tsopt)\n",
    "main_glac_rgi_tsopt = debris_prms.selectglaciersrgitable(rgiid_list_tsopt)\n",
    "\n",
    "# Glaciers extrapolated already\n",
    "glac_tsopt_fns_wextrap = glac_tsopt_fns.copy()\n",
    "rgiid_list_tsopt_wextrap = rgiid_list_tsopt.copy()\n",
    "for roi_extrap in debris_prms.roi_dict_extrap[debris_prms.roi]:\n",
    "    hdopt_prms_fp = debris_prms.output_fp + 'hd_opt_prms/' + roi_extrap + '/'\n",
    "    \n",
    "    for i in os.listdir(hdopt_prms_fp + '_extrap/'):\n",
    "        if i.endswith('_hdopt_prms_extrap.csv'):\n",
    "            region = int(i.split('.')[0])\n",
    "            if region in debris_prms.roi_rgidict[roi_extrap]:    \n",
    "                rgiid_list_tsopt_wextrap.append(i.split('_')[0])            \n",
    "                glac_tsopt_fns_wextrap.append(i)\n",
    "\n",
    "glac_tsopt_fns_wextrap = sorted(glac_tsopt_fns_wextrap)\n",
    "rgiid_list_tsopt_wextrap = sorted(rgiid_list_tsopt_wextrap)\n",
    "main_glac_rgi_tsopt_wextrap = debris_prms.selectglaciersrgitable(rgiid_list_tsopt_wextrap)\n",
    "\n",
    "main_glac_rgi_all['DC_Area_%'] = main_glac_rgi_all.RGIId.map(dc_areaperc_dict).fillna(0)\n",
    "main_glac_rgi_tsopt['DC_Area_%'] = main_glac_rgi_tsopt.RGIId.map(dc_areaperc_dict).fillna(0)\n",
    "main_glac_rgi_all['DC_Area_v2'] = main_glac_rgi_all['Area'] * main_glac_rgi_all['DC_Area_%'] / 100\n",
    "main_glac_rgi_tsopt['DC_Area_v2'] = main_glac_rgi_tsopt['Area'] * main_glac_rgi_tsopt['DC_Area_%'] / 100\n",
    "\n",
    "# Glaciers lacking optimization\n",
    "rgiids_missing = set(main_glac_rgi_all.rgino_str.values) - set(main_glac_rgi_tsopt_wextrap.rgino_str.values)\n",
    "rgiids_missing = sorted(rgiids_missing)\n",
    "if len(rgiids_missing) > 0:    \n",
    "    main_glac_rgi_missing = debris_prms.selectglaciersrgitable(rgiids_missing)\n",
    "    missing_idx = [rgiid_list.index(x) for x in rgiids_missing]\n",
    "    main_glac_rgi_missing['DC_Area_%'] = main_glac_rgi_missing.RGIId.map(dc_areaperc_dict).fillna(0)\n",
    "    main_glac_rgi_missing['DC_Area_v2'] = main_glac_rgi_missing['Area'] * main_glac_rgi_missing['DC_Area_%'] / 100\n",
    "    main_glac_rgi_missing.reset_index(inplace=True, drop=True)\n",
    "    \n",
    "else:\n",
    "    print('\\n\\n NO MISSING GLACIERS FOR REGION', debris_prms.roi)"
   ]
  },
  {
   "cell_type": "code",
   "execution_count": 4,
   "metadata": {},
   "outputs": [
    {
     "name": "stdout",
     "output_type": "stream",
     "text": [
      "\n",
      " 03: calibration includes 75 glaciers covering 182.2 km2 (20.8%) of the total debris-covered glacier area\n",
      "\n",
      "\n",
      " 03: missing includes 149 glaciers covering 165.9 km2 (18.9%) of the total debris-covered glacier area\n",
      "\n",
      "  glaciers all: 1965 total dc area [km2]: 875.8\n"
     ]
    }
   ],
   "source": [
    "print('\\n', debris_prms.roi + ': calibration includes', main_glac_rgi_tsopt.shape[0], 'glaciers covering',\n",
    "      str(np.round(main_glac_rgi_tsopt['DC_Area_v2'].sum(),1)), 'km2 (' + \n",
    "      str(np.round(main_glac_rgi_tsopt['DC_Area_v2'].sum() / main_glac_rgi_all['DC_Area_v2'].sum() * 100,1)) + \n",
    "      '%) of the total debris-covered glacier area\\n')    \n",
    "\n",
    "missing_idx = [rgiid_list.index(x) for x in rgiids_missing]\n",
    "print('\\n', debris_prms.roi + ': missing includes', main_glac_rgi_missing.shape[0], 'glaciers covering',\n",
    "      str(np.round(main_glac_rgi_all.loc[missing_idx,'DC_Area_v2'].sum(),1)), 'km2 (' + \n",
    "      str(np.round(main_glac_rgi_all.loc[missing_idx,'DC_Area_v2'].sum() / main_glac_rgi_all['DC_Area_v2'].sum() * 100,1)) + \n",
    "      '%) of the total debris-covered glacier area\\n')    \n",
    "\n",
    "print('  glaciers all:', main_glac_rgi_all['DC_Area_v2'].shape[0], \n",
    "      'total dc area [km2]:', np.round(main_glac_rgi_all['DC_Area_v2'].sum(),1))"
   ]
  },
  {
   "cell_type": "code",
   "execution_count": 5,
   "metadata": {},
   "outputs": [
    {
     "name": "stdout",
     "output_type": "stream",
     "text": [
      "Index(['O1Index', 'RGIId', 'CenLon', 'CenLat', 'O1Region', 'O2Region', 'Area',\n",
      "       'Zmin', 'Zmax', 'Zmed', 'Slope', 'Aspect', 'Lmax', 'Form', 'TermType',\n",
      "       'Surging', 'RefDate', 'glacno', 'rgino_str', 'RGIId_float', 'DC_Area_%',\n",
      "       'DC_Area_v2'],\n",
      "      dtype='object')\n",
      "165.85886545\n",
      "94.05595543000001\n"
     ]
    },
    {
     "data": {
      "text/html": [
       "<div>\n",
       "<style scoped>\n",
       "    .dataframe tbody tr th:only-of-type {\n",
       "        vertical-align: middle;\n",
       "    }\n",
       "\n",
       "    .dataframe tbody tr th {\n",
       "        vertical-align: top;\n",
       "    }\n",
       "\n",
       "    .dataframe thead th {\n",
       "        text-align: right;\n",
       "    }\n",
       "</style>\n",
       "<table border=\"1\" class=\"dataframe\">\n",
       "  <thead>\n",
       "    <tr style=\"text-align: right;\">\n",
       "      <th></th>\n",
       "      <th>O1Index</th>\n",
       "      <th>RGIId</th>\n",
       "      <th>CenLon</th>\n",
       "      <th>CenLat</th>\n",
       "      <th>O1Region</th>\n",
       "      <th>O2Region</th>\n",
       "      <th>Area</th>\n",
       "      <th>Zmin</th>\n",
       "      <th>Zmax</th>\n",
       "      <th>Zmed</th>\n",
       "      <th>...</th>\n",
       "      <th>Lmax</th>\n",
       "      <th>Form</th>\n",
       "      <th>TermType</th>\n",
       "      <th>Surging</th>\n",
       "      <th>RefDate</th>\n",
       "      <th>glacno</th>\n",
       "      <th>rgino_str</th>\n",
       "      <th>RGIId_float</th>\n",
       "      <th>DC_Area_%</th>\n",
       "      <th>DC_Area_v2</th>\n",
       "    </tr>\n",
       "  </thead>\n",
       "  <tbody>\n",
       "    <tr>\n",
       "      <th>0</th>\n",
       "      <td>2902</td>\n",
       "      <td>RGI60-03.02904</td>\n",
       "      <td>-72.4674</td>\n",
       "      <td>82.3974</td>\n",
       "      <td>3</td>\n",
       "      <td>1</td>\n",
       "      <td>1384.541</td>\n",
       "      <td>0</td>\n",
       "      <td>2107</td>\n",
       "      <td>1227</td>\n",
       "      <td>...</td>\n",
       "      <td>56860</td>\n",
       "      <td>0</td>\n",
       "      <td>1</td>\n",
       "      <td>1</td>\n",
       "      <td>20019999</td>\n",
       "      <td>2904</td>\n",
       "      <td>03.02904</td>\n",
       "      <td>3.02904</td>\n",
       "      <td>2.878</td>\n",
       "      <td>39.847090</td>\n",
       "    </tr>\n",
       "    <tr>\n",
       "      <th>1</th>\n",
       "      <td>2847</td>\n",
       "      <td>RGI60-03.02849</td>\n",
       "      <td>-78.9149</td>\n",
       "      <td>82.2671</td>\n",
       "      <td>3</td>\n",
       "      <td>1</td>\n",
       "      <td>1078.334</td>\n",
       "      <td>0</td>\n",
       "      <td>2012</td>\n",
       "      <td>1111</td>\n",
       "      <td>...</td>\n",
       "      <td>77014</td>\n",
       "      <td>0</td>\n",
       "      <td>1</td>\n",
       "      <td>0</td>\n",
       "      <td>20019999</td>\n",
       "      <td>2849</td>\n",
       "      <td>03.02849</td>\n",
       "      <td>3.02849</td>\n",
       "      <td>0.959</td>\n",
       "      <td>10.341223</td>\n",
       "    </tr>\n",
       "    <tr>\n",
       "      <th>2</th>\n",
       "      <td>2666</td>\n",
       "      <td>RGI60-03.02668</td>\n",
       "      <td>-75.5681</td>\n",
       "      <td>82.1571</td>\n",
       "      <td>3</td>\n",
       "      <td>1</td>\n",
       "      <td>1734.500</td>\n",
       "      <td>0</td>\n",
       "      <td>2346</td>\n",
       "      <td>1463</td>\n",
       "      <td>...</td>\n",
       "      <td>75434</td>\n",
       "      <td>0</td>\n",
       "      <td>1</td>\n",
       "      <td>1</td>\n",
       "      <td>20019999</td>\n",
       "      <td>2668</td>\n",
       "      <td>03.02668</td>\n",
       "      <td>3.02668</td>\n",
       "      <td>0.507</td>\n",
       "      <td>8.793915</td>\n",
       "    </tr>\n",
       "    <tr>\n",
       "      <th>3</th>\n",
       "      <td>122</td>\n",
       "      <td>RGI60-03.00123</td>\n",
       "      <td>-76.5299</td>\n",
       "      <td>80.3547</td>\n",
       "      <td>3</td>\n",
       "      <td>3</td>\n",
       "      <td>1594.482</td>\n",
       "      <td>0</td>\n",
       "      <td>2106</td>\n",
       "      <td>1438</td>\n",
       "      <td>...</td>\n",
       "      <td>74478</td>\n",
       "      <td>0</td>\n",
       "      <td>1</td>\n",
       "      <td>2</td>\n",
       "      <td>20019999</td>\n",
       "      <td>123</td>\n",
       "      <td>03.00123</td>\n",
       "      <td>3.00123</td>\n",
       "      <td>0.365</td>\n",
       "      <td>5.819859</td>\n",
       "    </tr>\n",
       "    <tr>\n",
       "      <th>4</th>\n",
       "      <td>2685</td>\n",
       "      <td>RGI60-03.02687</td>\n",
       "      <td>-77.8410</td>\n",
       "      <td>81.9358</td>\n",
       "      <td>3</td>\n",
       "      <td>1</td>\n",
       "      <td>875.281</td>\n",
       "      <td>0</td>\n",
       "      <td>2228</td>\n",
       "      <td>1347</td>\n",
       "      <td>...</td>\n",
       "      <td>67794</td>\n",
       "      <td>0</td>\n",
       "      <td>1</td>\n",
       "      <td>1</td>\n",
       "      <td>20019999</td>\n",
       "      <td>2687</td>\n",
       "      <td>03.02687</td>\n",
       "      <td>3.02687</td>\n",
       "      <td>0.622</td>\n",
       "      <td>5.444248</td>\n",
       "    </tr>\n",
       "    <tr>\n",
       "      <th>5</th>\n",
       "      <td>2465</td>\n",
       "      <td>RGI60-03.02467</td>\n",
       "      <td>-81.5122</td>\n",
       "      <td>75.0577</td>\n",
       "      <td>3</td>\n",
       "      <td>6</td>\n",
       "      <td>2622.813</td>\n",
       "      <td>0</td>\n",
       "      <td>1921</td>\n",
       "      <td>969</td>\n",
       "      <td>...</td>\n",
       "      <td>82582</td>\n",
       "      <td>1</td>\n",
       "      <td>1</td>\n",
       "      <td>1</td>\n",
       "      <td>19999999</td>\n",
       "      <td>2467</td>\n",
       "      <td>03.02467</td>\n",
       "      <td>3.02467</td>\n",
       "      <td>0.179</td>\n",
       "      <td>4.694835</td>\n",
       "    </tr>\n",
       "    <tr>\n",
       "      <th>6</th>\n",
       "      <td>112</td>\n",
       "      <td>RGI60-03.00113</td>\n",
       "      <td>-75.3588</td>\n",
       "      <td>80.5373</td>\n",
       "      <td>3</td>\n",
       "      <td>3</td>\n",
       "      <td>999.861</td>\n",
       "      <td>0</td>\n",
       "      <td>2074</td>\n",
       "      <td>1446</td>\n",
       "      <td>...</td>\n",
       "      <td>71606</td>\n",
       "      <td>1</td>\n",
       "      <td>1</td>\n",
       "      <td>0</td>\n",
       "      <td>20019999</td>\n",
       "      <td>113</td>\n",
       "      <td>03.00113</td>\n",
       "      <td>3.00113</td>\n",
       "      <td>0.437</td>\n",
       "      <td>4.369393</td>\n",
       "    </tr>\n",
       "    <tr>\n",
       "      <th>7</th>\n",
       "      <td>1515</td>\n",
       "      <td>RGI60-03.01517</td>\n",
       "      <td>-80.0780</td>\n",
       "      <td>76.8310</td>\n",
       "      <td>3</td>\n",
       "      <td>5</td>\n",
       "      <td>1741.310</td>\n",
       "      <td>0</td>\n",
       "      <td>1348</td>\n",
       "      <td>528</td>\n",
       "      <td>...</td>\n",
       "      <td>56818</td>\n",
       "      <td>0</td>\n",
       "      <td>1</td>\n",
       "      <td>3</td>\n",
       "      <td>20019999</td>\n",
       "      <td>1517</td>\n",
       "      <td>03.01517</td>\n",
       "      <td>3.01517</td>\n",
       "      <td>0.236</td>\n",
       "      <td>4.109492</td>\n",
       "    </tr>\n",
       "    <tr>\n",
       "      <th>8</th>\n",
       "      <td>3387</td>\n",
       "      <td>RGI60-03.03389</td>\n",
       "      <td>-80.3171</td>\n",
       "      <td>81.6622</td>\n",
       "      <td>3</td>\n",
       "      <td>1</td>\n",
       "      <td>774.565</td>\n",
       "      <td>0</td>\n",
       "      <td>1887</td>\n",
       "      <td>1476</td>\n",
       "      <td>...</td>\n",
       "      <td>702</td>\n",
       "      <td>0</td>\n",
       "      <td>1</td>\n",
       "      <td>0</td>\n",
       "      <td>20019999</td>\n",
       "      <td>3389</td>\n",
       "      <td>03.03389</td>\n",
       "      <td>3.03389</td>\n",
       "      <td>0.503</td>\n",
       "      <td>3.896062</td>\n",
       "    </tr>\n",
       "    <tr>\n",
       "      <th>9</th>\n",
       "      <td>2834</td>\n",
       "      <td>RGI60-03.02836</td>\n",
       "      <td>-78.7131</td>\n",
       "      <td>82.1353</td>\n",
       "      <td>3</td>\n",
       "      <td>1</td>\n",
       "      <td>660.666</td>\n",
       "      <td>0</td>\n",
       "      <td>2282</td>\n",
       "      <td>1162</td>\n",
       "      <td>...</td>\n",
       "      <td>62175</td>\n",
       "      <td>0</td>\n",
       "      <td>1</td>\n",
       "      <td>1</td>\n",
       "      <td>20019999</td>\n",
       "      <td>2836</td>\n",
       "      <td>03.02836</td>\n",
       "      <td>3.02836</td>\n",
       "      <td>0.520</td>\n",
       "      <td>3.435463</td>\n",
       "    </tr>\n",
       "    <tr>\n",
       "      <th>10</th>\n",
       "      <td>3272</td>\n",
       "      <td>RGI60-03.03274</td>\n",
       "      <td>-82.9439</td>\n",
       "      <td>81.4173</td>\n",
       "      <td>3</td>\n",
       "      <td>1</td>\n",
       "      <td>1214.844</td>\n",
       "      <td>0</td>\n",
       "      <td>1709</td>\n",
       "      <td>1208</td>\n",
       "      <td>...</td>\n",
       "      <td>1742</td>\n",
       "      <td>0</td>\n",
       "      <td>1</td>\n",
       "      <td>3</td>\n",
       "      <td>20019999</td>\n",
       "      <td>3274</td>\n",
       "      <td>03.03274</td>\n",
       "      <td>3.03274</td>\n",
       "      <td>0.272</td>\n",
       "      <td>3.304376</td>\n",
       "    </tr>\n",
       "  </tbody>\n",
       "</table>\n",
       "<p>11 rows × 22 columns</p>\n",
       "</div>"
      ],
      "text/plain": [
       "    O1Index           RGIId   CenLon   CenLat  O1Region  O2Region      Area  \\\n",
       "0      2902  RGI60-03.02904 -72.4674  82.3974         3         1  1384.541   \n",
       "1      2847  RGI60-03.02849 -78.9149  82.2671         3         1  1078.334   \n",
       "2      2666  RGI60-03.02668 -75.5681  82.1571         3         1  1734.500   \n",
       "3       122  RGI60-03.00123 -76.5299  80.3547         3         3  1594.482   \n",
       "4      2685  RGI60-03.02687 -77.8410  81.9358         3         1   875.281   \n",
       "5      2465  RGI60-03.02467 -81.5122  75.0577         3         6  2622.813   \n",
       "6       112  RGI60-03.00113 -75.3588  80.5373         3         3   999.861   \n",
       "7      1515  RGI60-03.01517 -80.0780  76.8310         3         5  1741.310   \n",
       "8      3387  RGI60-03.03389 -80.3171  81.6622         3         1   774.565   \n",
       "9      2834  RGI60-03.02836 -78.7131  82.1353         3         1   660.666   \n",
       "10     3272  RGI60-03.03274 -82.9439  81.4173         3         1  1214.844   \n",
       "\n",
       "    Zmin  Zmax  Zmed  ...   Lmax  Form  TermType  Surging   RefDate  glacno  \\\n",
       "0      0  2107  1227  ...  56860     0         1        1  20019999    2904   \n",
       "1      0  2012  1111  ...  77014     0         1        0  20019999    2849   \n",
       "2      0  2346  1463  ...  75434     0         1        1  20019999    2668   \n",
       "3      0  2106  1438  ...  74478     0         1        2  20019999     123   \n",
       "4      0  2228  1347  ...  67794     0         1        1  20019999    2687   \n",
       "5      0  1921   969  ...  82582     1         1        1  19999999    2467   \n",
       "6      0  2074  1446  ...  71606     1         1        0  20019999     113   \n",
       "7      0  1348   528  ...  56818     0         1        3  20019999    1517   \n",
       "8      0  1887  1476  ...    702     0         1        0  20019999    3389   \n",
       "9      0  2282  1162  ...  62175     0         1        1  20019999    2836   \n",
       "10     0  1709  1208  ...   1742     0         1        3  20019999    3274   \n",
       "\n",
       "    rgino_str  RGIId_float DC_Area_%  DC_Area_v2  \n",
       "0    03.02904      3.02904     2.878   39.847090  \n",
       "1    03.02849      3.02849     0.959   10.341223  \n",
       "2    03.02668      3.02668     0.507    8.793915  \n",
       "3    03.00123      3.00123     0.365    5.819859  \n",
       "4    03.02687      3.02687     0.622    5.444248  \n",
       "5    03.02467      3.02467     0.179    4.694835  \n",
       "6    03.00113      3.00113     0.437    4.369393  \n",
       "7    03.01517      3.01517     0.236    4.109492  \n",
       "8    03.03389      3.03389     0.503    3.896062  \n",
       "9    03.02836      3.02836     0.520    3.435463  \n",
       "10   03.03274      3.03274     0.272    3.304376  \n",
       "\n",
       "[11 rows x 22 columns]"
      ]
     },
     "execution_count": 5,
     "metadata": {},
     "output_type": "execute_result"
    }
   ],
   "source": [
    "A = main_glac_rgi_missing.copy()\n",
    "print(A.columns)\n",
    "A = A.sort_values('DC_Area_v2', ascending=False)\n",
    "A.reset_index(inplace=True, drop=True)\n",
    "print(A['DC_Area_v2'].sum())\n",
    "print(A.loc[0:10,'DC_Area_v2'].sum())\n",
    "A.loc[0:10,:]"
   ]
  },
  {
   "cell_type": "code",
   "execution_count": 6,
   "metadata": {},
   "outputs": [],
   "source": [
    "# # print('\\nHACK TO EXTRAPOLATE TO CALIBRATED GLACIERS FOR COMPARISON\\n')\n",
    "# rgiids_missing = ['15.02167']\n",
    "# # # rgiids_missing = ['2.14297']\n",
    "# # # rgiids_missing = ['11.02472']\n",
    "# # # rgiids_missing = ['12.01132']\n",
    "# # # rgiids_missing = ['13.43165']\n",
    "# # # rgiids_missing = ['15.03473']\n",
    "# # # rgiids_missing = ['15.04045']\n",
    "# # # rgiids_missing = ['18.02397']\n",
    "# rgiids_missing = ['15.02231']\n",
    "# main_glac_rgi_missing = debris_prms.selectglaciersrgitable(rgiids_missing)"
   ]
  },
  {
   "cell_type": "code",
   "execution_count": 7,
   "metadata": {},
   "outputs": [
    {
     "name": "stdout",
     "output_type": "stream",
     "text": [
      "0 03.00108\n",
      "0 03.00108\n"
     ]
    },
    {
     "name": "stderr",
     "output_type": "stream",
     "text": [
      "/Users/drounce/opt/anaconda3/envs/debris_thickness_global/lib/python3.6/site-packages/ipykernel_launcher.py:118: RuntimeWarning: All-NaN slice encountered\n",
      "/Users/drounce/opt/anaconda3/envs/debris_thickness_global/lib/python3.6/site-packages/ipykernel_launcher.py:119: RuntimeWarning: All-NaN slice encountered\n"
     ]
    },
    {
     "name": "stdout",
     "output_type": "stream",
     "text": [
      "1 03.00113\n"
     ]
    },
    {
     "name": "stderr",
     "output_type": "stream",
     "text": [
      "/Users/drounce/opt/anaconda3/envs/debris_thickness_global/lib/python3.6/site-packages/ipykernel_launcher.py:118: RuntimeWarning: All-NaN slice encountered\n",
      "/Users/drounce/opt/anaconda3/envs/debris_thickness_global/lib/python3.6/site-packages/ipykernel_launcher.py:119: RuntimeWarning: All-NaN slice encountered\n"
     ]
    },
    {
     "name": "stdout",
     "output_type": "stream",
     "text": [
      "2 03.00123\n"
     ]
    },
    {
     "name": "stderr",
     "output_type": "stream",
     "text": [
      "/Users/drounce/opt/anaconda3/envs/debris_thickness_global/lib/python3.6/site-packages/ipykernel_launcher.py:118: RuntimeWarning: All-NaN slice encountered\n",
      "/Users/drounce/opt/anaconda3/envs/debris_thickness_global/lib/python3.6/site-packages/ipykernel_launcher.py:119: RuntimeWarning: All-NaN slice encountered\n"
     ]
    },
    {
     "name": "stdout",
     "output_type": "stream",
     "text": [
      "3 03.00175\n",
      "4 03.00183\n"
     ]
    },
    {
     "name": "stderr",
     "output_type": "stream",
     "text": [
      "/Users/drounce/opt/anaconda3/envs/debris_thickness_global/lib/python3.6/site-packages/ipykernel_launcher.py:118: RuntimeWarning: All-NaN slice encountered\n",
      "/Users/drounce/opt/anaconda3/envs/debris_thickness_global/lib/python3.6/site-packages/ipykernel_launcher.py:119: RuntimeWarning: All-NaN slice encountered\n"
     ]
    },
    {
     "name": "stdout",
     "output_type": "stream",
     "text": [
      "5 03.00237\n"
     ]
    },
    {
     "name": "stderr",
     "output_type": "stream",
     "text": [
      "/Users/drounce/opt/anaconda3/envs/debris_thickness_global/lib/python3.6/site-packages/ipykernel_launcher.py:118: RuntimeWarning: All-NaN slice encountered\n",
      "/Users/drounce/opt/anaconda3/envs/debris_thickness_global/lib/python3.6/site-packages/ipykernel_launcher.py:119: RuntimeWarning: All-NaN slice encountered\n"
     ]
    },
    {
     "name": "stdout",
     "output_type": "stream",
     "text": [
      "6 03.00283\n"
     ]
    },
    {
     "name": "stderr",
     "output_type": "stream",
     "text": [
      "/Users/drounce/opt/anaconda3/envs/debris_thickness_global/lib/python3.6/site-packages/ipykernel_launcher.py:118: RuntimeWarning: All-NaN slice encountered\n",
      "/Users/drounce/opt/anaconda3/envs/debris_thickness_global/lib/python3.6/site-packages/ipykernel_launcher.py:119: RuntimeWarning: All-NaN slice encountered\n"
     ]
    },
    {
     "name": "stdout",
     "output_type": "stream",
     "text": [
      "7 03.00366\n"
     ]
    },
    {
     "name": "stderr",
     "output_type": "stream",
     "text": [
      "/Users/drounce/opt/anaconda3/envs/debris_thickness_global/lib/python3.6/site-packages/ipykernel_launcher.py:118: RuntimeWarning: All-NaN slice encountered\n",
      "/Users/drounce/opt/anaconda3/envs/debris_thickness_global/lib/python3.6/site-packages/ipykernel_launcher.py:119: RuntimeWarning: All-NaN slice encountered\n"
     ]
    },
    {
     "name": "stdout",
     "output_type": "stream",
     "text": [
      "8 03.00419\n"
     ]
    },
    {
     "name": "stderr",
     "output_type": "stream",
     "text": [
      "/Users/drounce/opt/anaconda3/envs/debris_thickness_global/lib/python3.6/site-packages/ipykernel_launcher.py:118: RuntimeWarning: All-NaN slice encountered\n",
      "/Users/drounce/opt/anaconda3/envs/debris_thickness_global/lib/python3.6/site-packages/ipykernel_launcher.py:119: RuntimeWarning: All-NaN slice encountered\n"
     ]
    },
    {
     "name": "stdout",
     "output_type": "stream",
     "text": [
      "9 03.00832\n"
     ]
    },
    {
     "name": "stderr",
     "output_type": "stream",
     "text": [
      "/Users/drounce/opt/anaconda3/envs/debris_thickness_global/lib/python3.6/site-packages/ipykernel_launcher.py:118: RuntimeWarning: All-NaN slice encountered\n",
      "/Users/drounce/opt/anaconda3/envs/debris_thickness_global/lib/python3.6/site-packages/ipykernel_launcher.py:119: RuntimeWarning: All-NaN slice encountered\n"
     ]
    },
    {
     "name": "stdout",
     "output_type": "stream",
     "text": [
      "10 03.01405\n"
     ]
    },
    {
     "name": "stderr",
     "output_type": "stream",
     "text": [
      "/Users/drounce/opt/anaconda3/envs/debris_thickness_global/lib/python3.6/site-packages/ipykernel_launcher.py:118: RuntimeWarning: All-NaN slice encountered\n",
      "/Users/drounce/opt/anaconda3/envs/debris_thickness_global/lib/python3.6/site-packages/ipykernel_launcher.py:119: RuntimeWarning: All-NaN slice encountered\n",
      "/Users/drounce/opt/anaconda3/envs/debris_thickness_global/lib/python3.6/site-packages/ipykernel_launcher.py:118: RuntimeWarning: All-NaN slice encountered\n",
      "/Users/drounce/opt/anaconda3/envs/debris_thickness_global/lib/python3.6/site-packages/ipykernel_launcher.py:119: RuntimeWarning: All-NaN slice encountered\n"
     ]
    },
    {
     "name": "stdout",
     "output_type": "stream",
     "text": [
      "11 03.01408\n",
      "12 03.01412\n"
     ]
    },
    {
     "name": "stderr",
     "output_type": "stream",
     "text": [
      "/Users/drounce/opt/anaconda3/envs/debris_thickness_global/lib/python3.6/site-packages/ipykernel_launcher.py:118: RuntimeWarning: All-NaN slice encountered\n",
      "/Users/drounce/opt/anaconda3/envs/debris_thickness_global/lib/python3.6/site-packages/ipykernel_launcher.py:119: RuntimeWarning: All-NaN slice encountered\n",
      "/Users/drounce/opt/anaconda3/envs/debris_thickness_global/lib/python3.6/site-packages/ipykernel_launcher.py:118: RuntimeWarning: All-NaN slice encountered\n",
      "/Users/drounce/opt/anaconda3/envs/debris_thickness_global/lib/python3.6/site-packages/ipykernel_launcher.py:119: RuntimeWarning: All-NaN slice encountered\n"
     ]
    },
    {
     "name": "stdout",
     "output_type": "stream",
     "text": [
      "13 03.01416\n",
      "14 03.01422\n"
     ]
    },
    {
     "name": "stderr",
     "output_type": "stream",
     "text": [
      "/Users/drounce/opt/anaconda3/envs/debris_thickness_global/lib/python3.6/site-packages/ipykernel_launcher.py:118: RuntimeWarning: All-NaN slice encountered\n",
      "/Users/drounce/opt/anaconda3/envs/debris_thickness_global/lib/python3.6/site-packages/ipykernel_launcher.py:119: RuntimeWarning: All-NaN slice encountered\n",
      "/Users/drounce/opt/anaconda3/envs/debris_thickness_global/lib/python3.6/site-packages/ipykernel_launcher.py:118: RuntimeWarning: All-NaN slice encountered\n",
      "/Users/drounce/opt/anaconda3/envs/debris_thickness_global/lib/python3.6/site-packages/ipykernel_launcher.py:119: RuntimeWarning: All-NaN slice encountered\n"
     ]
    },
    {
     "name": "stdout",
     "output_type": "stream",
     "text": [
      "15 03.01444\n",
      "16 03.01446\n"
     ]
    },
    {
     "name": "stderr",
     "output_type": "stream",
     "text": [
      "/Users/drounce/opt/anaconda3/envs/debris_thickness_global/lib/python3.6/site-packages/ipykernel_launcher.py:118: RuntimeWarning: All-NaN slice encountered\n",
      "/Users/drounce/opt/anaconda3/envs/debris_thickness_global/lib/python3.6/site-packages/ipykernel_launcher.py:119: RuntimeWarning: All-NaN slice encountered\n",
      "/Users/drounce/opt/anaconda3/envs/debris_thickness_global/lib/python3.6/site-packages/ipykernel_launcher.py:118: RuntimeWarning: All-NaN slice encountered\n",
      "/Users/drounce/opt/anaconda3/envs/debris_thickness_global/lib/python3.6/site-packages/ipykernel_launcher.py:119: RuntimeWarning: All-NaN slice encountered\n"
     ]
    },
    {
     "name": "stdout",
     "output_type": "stream",
     "text": [
      "17 03.01447\n",
      "18 03.01482\n"
     ]
    },
    {
     "name": "stderr",
     "output_type": "stream",
     "text": [
      "/Users/drounce/opt/anaconda3/envs/debris_thickness_global/lib/python3.6/site-packages/ipykernel_launcher.py:118: RuntimeWarning: All-NaN slice encountered\n",
      "/Users/drounce/opt/anaconda3/envs/debris_thickness_global/lib/python3.6/site-packages/ipykernel_launcher.py:119: RuntimeWarning: All-NaN slice encountered\n"
     ]
    },
    {
     "name": "stdout",
     "output_type": "stream",
     "text": [
      "19 03.01483\n"
     ]
    },
    {
     "name": "stderr",
     "output_type": "stream",
     "text": [
      "/Users/drounce/opt/anaconda3/envs/debris_thickness_global/lib/python3.6/site-packages/ipykernel_launcher.py:118: RuntimeWarning: All-NaN slice encountered\n",
      "/Users/drounce/opt/anaconda3/envs/debris_thickness_global/lib/python3.6/site-packages/ipykernel_launcher.py:119: RuntimeWarning: All-NaN slice encountered\n"
     ]
    },
    {
     "name": "stdout",
     "output_type": "stream",
     "text": [
      "20 03.01493\n"
     ]
    },
    {
     "name": "stderr",
     "output_type": "stream",
     "text": [
      "/Users/drounce/opt/anaconda3/envs/debris_thickness_global/lib/python3.6/site-packages/ipykernel_launcher.py:118: RuntimeWarning: All-NaN slice encountered\n",
      "/Users/drounce/opt/anaconda3/envs/debris_thickness_global/lib/python3.6/site-packages/ipykernel_launcher.py:119: RuntimeWarning: All-NaN slice encountered\n"
     ]
    },
    {
     "name": "stdout",
     "output_type": "stream",
     "text": [
      "21 03.01496\n"
     ]
    },
    {
     "name": "stderr",
     "output_type": "stream",
     "text": [
      "/Users/drounce/opt/anaconda3/envs/debris_thickness_global/lib/python3.6/site-packages/ipykernel_launcher.py:118: RuntimeWarning: All-NaN slice encountered\n",
      "/Users/drounce/opt/anaconda3/envs/debris_thickness_global/lib/python3.6/site-packages/ipykernel_launcher.py:119: RuntimeWarning: All-NaN slice encountered\n"
     ]
    },
    {
     "name": "stdout",
     "output_type": "stream",
     "text": [
      "22 03.01499\n",
      "23 03.01501\n",
      "24 03.01502\n"
     ]
    },
    {
     "name": "stderr",
     "output_type": "stream",
     "text": [
      "/Users/drounce/opt/anaconda3/envs/debris_thickness_global/lib/python3.6/site-packages/ipykernel_launcher.py:118: RuntimeWarning: All-NaN slice encountered\n",
      "/Users/drounce/opt/anaconda3/envs/debris_thickness_global/lib/python3.6/site-packages/ipykernel_launcher.py:119: RuntimeWarning: All-NaN slice encountered\n",
      "/Users/drounce/opt/anaconda3/envs/debris_thickness_global/lib/python3.6/site-packages/ipykernel_launcher.py:118: RuntimeWarning: All-NaN slice encountered\n",
      "/Users/drounce/opt/anaconda3/envs/debris_thickness_global/lib/python3.6/site-packages/ipykernel_launcher.py:119: RuntimeWarning: All-NaN slice encountered\n",
      "/Users/drounce/opt/anaconda3/envs/debris_thickness_global/lib/python3.6/site-packages/ipykernel_launcher.py:118: RuntimeWarning: All-NaN slice encountered\n",
      "/Users/drounce/opt/anaconda3/envs/debris_thickness_global/lib/python3.6/site-packages/ipykernel_launcher.py:119: RuntimeWarning: All-NaN slice encountered\n"
     ]
    },
    {
     "name": "stdout",
     "output_type": "stream",
     "text": [
      "25 03.01506\n",
      "26 03.01509\n"
     ]
    },
    {
     "name": "stderr",
     "output_type": "stream",
     "text": [
      "/Users/drounce/opt/anaconda3/envs/debris_thickness_global/lib/python3.6/site-packages/ipykernel_launcher.py:118: RuntimeWarning: All-NaN slice encountered\n",
      "/Users/drounce/opt/anaconda3/envs/debris_thickness_global/lib/python3.6/site-packages/ipykernel_launcher.py:119: RuntimeWarning: All-NaN slice encountered\n",
      "/Users/drounce/opt/anaconda3/envs/debris_thickness_global/lib/python3.6/site-packages/ipykernel_launcher.py:118: RuntimeWarning: All-NaN slice encountered\n",
      "/Users/drounce/opt/anaconda3/envs/debris_thickness_global/lib/python3.6/site-packages/ipykernel_launcher.py:119: RuntimeWarning: All-NaN slice encountered\n"
     ]
    },
    {
     "name": "stdout",
     "output_type": "stream",
     "text": [
      "27 03.01514\n",
      "28 03.01516\n",
      "29 03.01517\n"
     ]
    },
    {
     "name": "stderr",
     "output_type": "stream",
     "text": [
      "/Users/drounce/opt/anaconda3/envs/debris_thickness_global/lib/python3.6/site-packages/ipykernel_launcher.py:118: RuntimeWarning: All-NaN slice encountered\n",
      "/Users/drounce/opt/anaconda3/envs/debris_thickness_global/lib/python3.6/site-packages/ipykernel_launcher.py:119: RuntimeWarning: All-NaN slice encountered\n"
     ]
    },
    {
     "name": "stdout",
     "output_type": "stream",
     "text": [
      "30 03.01519\n"
     ]
    },
    {
     "name": "stderr",
     "output_type": "stream",
     "text": [
      "/Users/drounce/opt/anaconda3/envs/debris_thickness_global/lib/python3.6/site-packages/ipykernel_launcher.py:118: RuntimeWarning: All-NaN slice encountered\n",
      "/Users/drounce/opt/anaconda3/envs/debris_thickness_global/lib/python3.6/site-packages/ipykernel_launcher.py:119: RuntimeWarning: All-NaN slice encountered\n"
     ]
    },
    {
     "name": "stdout",
     "output_type": "stream",
     "text": [
      "31 03.01520\n"
     ]
    },
    {
     "name": "stderr",
     "output_type": "stream",
     "text": [
      "/Users/drounce/opt/anaconda3/envs/debris_thickness_global/lib/python3.6/site-packages/ipykernel_launcher.py:118: RuntimeWarning: All-NaN slice encountered\n",
      "/Users/drounce/opt/anaconda3/envs/debris_thickness_global/lib/python3.6/site-packages/ipykernel_launcher.py:119: RuntimeWarning: All-NaN slice encountered\n",
      "/Users/drounce/opt/anaconda3/envs/debris_thickness_global/lib/python3.6/site-packages/ipykernel_launcher.py:118: RuntimeWarning: All-NaN slice encountered\n",
      "/Users/drounce/opt/anaconda3/envs/debris_thickness_global/lib/python3.6/site-packages/ipykernel_launcher.py:119: RuntimeWarning: All-NaN slice encountered\n"
     ]
    },
    {
     "name": "stdout",
     "output_type": "stream",
     "text": [
      "32 03.01522\n",
      "33 03.01523\n"
     ]
    },
    {
     "name": "stderr",
     "output_type": "stream",
     "text": [
      "/Users/drounce/opt/anaconda3/envs/debris_thickness_global/lib/python3.6/site-packages/ipykernel_launcher.py:118: RuntimeWarning: All-NaN slice encountered\n",
      "/Users/drounce/opt/anaconda3/envs/debris_thickness_global/lib/python3.6/site-packages/ipykernel_launcher.py:119: RuntimeWarning: All-NaN slice encountered\n"
     ]
    },
    {
     "name": "stdout",
     "output_type": "stream",
     "text": [
      "34 03.01525\n"
     ]
    },
    {
     "name": "stderr",
     "output_type": "stream",
     "text": [
      "/Users/drounce/opt/anaconda3/envs/debris_thickness_global/lib/python3.6/site-packages/ipykernel_launcher.py:118: RuntimeWarning: All-NaN slice encountered\n",
      "/Users/drounce/opt/anaconda3/envs/debris_thickness_global/lib/python3.6/site-packages/ipykernel_launcher.py:119: RuntimeWarning: All-NaN slice encountered\n",
      "/Users/drounce/opt/anaconda3/envs/debris_thickness_global/lib/python3.6/site-packages/ipykernel_launcher.py:118: RuntimeWarning: All-NaN slice encountered\n",
      "/Users/drounce/opt/anaconda3/envs/debris_thickness_global/lib/python3.6/site-packages/ipykernel_launcher.py:119: RuntimeWarning: All-NaN slice encountered\n"
     ]
    },
    {
     "name": "stdout",
     "output_type": "stream",
     "text": [
      "35 03.01527\n",
      "36 03.01529\n"
     ]
    },
    {
     "name": "stderr",
     "output_type": "stream",
     "text": [
      "/Users/drounce/opt/anaconda3/envs/debris_thickness_global/lib/python3.6/site-packages/ipykernel_launcher.py:118: RuntimeWarning: All-NaN slice encountered\n",
      "/Users/drounce/opt/anaconda3/envs/debris_thickness_global/lib/python3.6/site-packages/ipykernel_launcher.py:119: RuntimeWarning: All-NaN slice encountered\n",
      "/Users/drounce/opt/anaconda3/envs/debris_thickness_global/lib/python3.6/site-packages/ipykernel_launcher.py:118: RuntimeWarning: All-NaN slice encountered\n",
      "/Users/drounce/opt/anaconda3/envs/debris_thickness_global/lib/python3.6/site-packages/ipykernel_launcher.py:119: RuntimeWarning: All-NaN slice encountered\n"
     ]
    },
    {
     "name": "stdout",
     "output_type": "stream",
     "text": [
      "37 03.01530\n",
      "38 03.01533\n"
     ]
    },
    {
     "name": "stderr",
     "output_type": "stream",
     "text": [
      "/Users/drounce/opt/anaconda3/envs/debris_thickness_global/lib/python3.6/site-packages/ipykernel_launcher.py:118: RuntimeWarning: All-NaN slice encountered\n",
      "/Users/drounce/opt/anaconda3/envs/debris_thickness_global/lib/python3.6/site-packages/ipykernel_launcher.py:119: RuntimeWarning: All-NaN slice encountered\n"
     ]
    },
    {
     "name": "stdout",
     "output_type": "stream",
     "text": [
      "39 03.01535\n"
     ]
    },
    {
     "name": "stderr",
     "output_type": "stream",
     "text": [
      "/Users/drounce/opt/anaconda3/envs/debris_thickness_global/lib/python3.6/site-packages/ipykernel_launcher.py:118: RuntimeWarning: All-NaN slice encountered\n",
      "/Users/drounce/opt/anaconda3/envs/debris_thickness_global/lib/python3.6/site-packages/ipykernel_launcher.py:119: RuntimeWarning: All-NaN slice encountered\n",
      "/Users/drounce/opt/anaconda3/envs/debris_thickness_global/lib/python3.6/site-packages/ipykernel_launcher.py:118: RuntimeWarning: All-NaN slice encountered\n",
      "/Users/drounce/opt/anaconda3/envs/debris_thickness_global/lib/python3.6/site-packages/ipykernel_launcher.py:119: RuntimeWarning: All-NaN slice encountered\n"
     ]
    },
    {
     "name": "stdout",
     "output_type": "stream",
     "text": [
      "40 03.01544\n",
      "41 03.01555\n"
     ]
    },
    {
     "name": "stderr",
     "output_type": "stream",
     "text": [
      "/Users/drounce/opt/anaconda3/envs/debris_thickness_global/lib/python3.6/site-packages/ipykernel_launcher.py:118: RuntimeWarning: All-NaN slice encountered\n",
      "/Users/drounce/opt/anaconda3/envs/debris_thickness_global/lib/python3.6/site-packages/ipykernel_launcher.py:119: RuntimeWarning: All-NaN slice encountered\n"
     ]
    },
    {
     "name": "stdout",
     "output_type": "stream",
     "text": [
      "42 03.01564\n"
     ]
    },
    {
     "name": "stderr",
     "output_type": "stream",
     "text": [
      "/Users/drounce/opt/anaconda3/envs/debris_thickness_global/lib/python3.6/site-packages/ipykernel_launcher.py:118: RuntimeWarning: All-NaN slice encountered\n",
      "/Users/drounce/opt/anaconda3/envs/debris_thickness_global/lib/python3.6/site-packages/ipykernel_launcher.py:119: RuntimeWarning: All-NaN slice encountered\n"
     ]
    },
    {
     "name": "stdout",
     "output_type": "stream",
     "text": [
      "43 03.01565\n"
     ]
    },
    {
     "name": "stderr",
     "output_type": "stream",
     "text": [
      "/Users/drounce/opt/anaconda3/envs/debris_thickness_global/lib/python3.6/site-packages/ipykernel_launcher.py:118: RuntimeWarning: All-NaN slice encountered\n",
      "/Users/drounce/opt/anaconda3/envs/debris_thickness_global/lib/python3.6/site-packages/ipykernel_launcher.py:119: RuntimeWarning: All-NaN slice encountered\n"
     ]
    },
    {
     "name": "stdout",
     "output_type": "stream",
     "text": [
      "44 03.01566\n"
     ]
    },
    {
     "name": "stderr",
     "output_type": "stream",
     "text": [
      "/Users/drounce/opt/anaconda3/envs/debris_thickness_global/lib/python3.6/site-packages/ipykernel_launcher.py:118: RuntimeWarning: All-NaN slice encountered\n",
      "/Users/drounce/opt/anaconda3/envs/debris_thickness_global/lib/python3.6/site-packages/ipykernel_launcher.py:119: RuntimeWarning: All-NaN slice encountered\n"
     ]
    },
    {
     "name": "stdout",
     "output_type": "stream",
     "text": [
      "45 03.01570\n"
     ]
    },
    {
     "name": "stderr",
     "output_type": "stream",
     "text": [
      "/Users/drounce/opt/anaconda3/envs/debris_thickness_global/lib/python3.6/site-packages/ipykernel_launcher.py:118: RuntimeWarning: All-NaN slice encountered\n",
      "/Users/drounce/opt/anaconda3/envs/debris_thickness_global/lib/python3.6/site-packages/ipykernel_launcher.py:119: RuntimeWarning: All-NaN slice encountered\n",
      "/Users/drounce/opt/anaconda3/envs/debris_thickness_global/lib/python3.6/site-packages/ipykernel_launcher.py:118: RuntimeWarning: All-NaN slice encountered\n",
      "/Users/drounce/opt/anaconda3/envs/debris_thickness_global/lib/python3.6/site-packages/ipykernel_launcher.py:119: RuntimeWarning: All-NaN slice encountered\n"
     ]
    },
    {
     "name": "stdout",
     "output_type": "stream",
     "text": [
      "46 03.01571\n",
      "47 03.01575\n"
     ]
    },
    {
     "name": "stderr",
     "output_type": "stream",
     "text": [
      "/Users/drounce/opt/anaconda3/envs/debris_thickness_global/lib/python3.6/site-packages/ipykernel_launcher.py:118: RuntimeWarning: All-NaN slice encountered\n",
      "/Users/drounce/opt/anaconda3/envs/debris_thickness_global/lib/python3.6/site-packages/ipykernel_launcher.py:119: RuntimeWarning: All-NaN slice encountered\n"
     ]
    },
    {
     "name": "stdout",
     "output_type": "stream",
     "text": [
      "48 03.01576\n"
     ]
    },
    {
     "name": "stderr",
     "output_type": "stream",
     "text": [
      "/Users/drounce/opt/anaconda3/envs/debris_thickness_global/lib/python3.6/site-packages/ipykernel_launcher.py:118: RuntimeWarning: All-NaN slice encountered\n",
      "/Users/drounce/opt/anaconda3/envs/debris_thickness_global/lib/python3.6/site-packages/ipykernel_launcher.py:119: RuntimeWarning: All-NaN slice encountered\n",
      "/Users/drounce/opt/anaconda3/envs/debris_thickness_global/lib/python3.6/site-packages/ipykernel_launcher.py:118: RuntimeWarning: All-NaN slice encountered\n",
      "/Users/drounce/opt/anaconda3/envs/debris_thickness_global/lib/python3.6/site-packages/ipykernel_launcher.py:119: RuntimeWarning: All-NaN slice encountered\n"
     ]
    },
    {
     "name": "stdout",
     "output_type": "stream",
     "text": [
      "49 03.01577\n",
      "50 03.01582\n"
     ]
    },
    {
     "name": "stderr",
     "output_type": "stream",
     "text": [
      "/Users/drounce/opt/anaconda3/envs/debris_thickness_global/lib/python3.6/site-packages/ipykernel_launcher.py:118: RuntimeWarning: All-NaN slice encountered\n",
      "/Users/drounce/opt/anaconda3/envs/debris_thickness_global/lib/python3.6/site-packages/ipykernel_launcher.py:119: RuntimeWarning: All-NaN slice encountered\n"
     ]
    },
    {
     "name": "stdout",
     "output_type": "stream",
     "text": [
      "51 03.01590\n"
     ]
    },
    {
     "name": "stderr",
     "output_type": "stream",
     "text": [
      "/Users/drounce/opt/anaconda3/envs/debris_thickness_global/lib/python3.6/site-packages/ipykernel_launcher.py:118: RuntimeWarning: All-NaN slice encountered\n",
      "/Users/drounce/opt/anaconda3/envs/debris_thickness_global/lib/python3.6/site-packages/ipykernel_launcher.py:119: RuntimeWarning: All-NaN slice encountered\n",
      "/Users/drounce/opt/anaconda3/envs/debris_thickness_global/lib/python3.6/site-packages/ipykernel_launcher.py:118: RuntimeWarning: All-NaN slice encountered\n",
      "/Users/drounce/opt/anaconda3/envs/debris_thickness_global/lib/python3.6/site-packages/ipykernel_launcher.py:119: RuntimeWarning: All-NaN slice encountered\n"
     ]
    },
    {
     "name": "stdout",
     "output_type": "stream",
     "text": [
      "52 03.01614\n",
      "53 03.01618\n"
     ]
    },
    {
     "name": "stderr",
     "output_type": "stream",
     "text": [
      "/Users/drounce/opt/anaconda3/envs/debris_thickness_global/lib/python3.6/site-packages/ipykernel_launcher.py:118: RuntimeWarning: All-NaN slice encountered\n",
      "/Users/drounce/opt/anaconda3/envs/debris_thickness_global/lib/python3.6/site-packages/ipykernel_launcher.py:119: RuntimeWarning: All-NaN slice encountered\n",
      "/Users/drounce/opt/anaconda3/envs/debris_thickness_global/lib/python3.6/site-packages/ipykernel_launcher.py:118: RuntimeWarning: All-NaN slice encountered\n",
      "/Users/drounce/opt/anaconda3/envs/debris_thickness_global/lib/python3.6/site-packages/ipykernel_launcher.py:119: RuntimeWarning: All-NaN slice encountered\n"
     ]
    },
    {
     "name": "stdout",
     "output_type": "stream",
     "text": [
      "54 03.01619\n",
      "55 03.01620\n"
     ]
    },
    {
     "name": "stderr",
     "output_type": "stream",
     "text": [
      "/Users/drounce/opt/anaconda3/envs/debris_thickness_global/lib/python3.6/site-packages/ipykernel_launcher.py:118: RuntimeWarning: All-NaN slice encountered\n",
      "/Users/drounce/opt/anaconda3/envs/debris_thickness_global/lib/python3.6/site-packages/ipykernel_launcher.py:119: RuntimeWarning: All-NaN slice encountered\n"
     ]
    },
    {
     "name": "stdout",
     "output_type": "stream",
     "text": [
      "56 03.01621\n"
     ]
    },
    {
     "name": "stderr",
     "output_type": "stream",
     "text": [
      "/Users/drounce/opt/anaconda3/envs/debris_thickness_global/lib/python3.6/site-packages/ipykernel_launcher.py:118: RuntimeWarning: All-NaN slice encountered\n",
      "/Users/drounce/opt/anaconda3/envs/debris_thickness_global/lib/python3.6/site-packages/ipykernel_launcher.py:119: RuntimeWarning: All-NaN slice encountered\n"
     ]
    },
    {
     "name": "stdout",
     "output_type": "stream",
     "text": [
      "57 03.01633\n",
      "58 03.01637\n"
     ]
    },
    {
     "name": "stderr",
     "output_type": "stream",
     "text": [
      "/Users/drounce/opt/anaconda3/envs/debris_thickness_global/lib/python3.6/site-packages/ipykernel_launcher.py:118: RuntimeWarning: All-NaN slice encountered\n",
      "/Users/drounce/opt/anaconda3/envs/debris_thickness_global/lib/python3.6/site-packages/ipykernel_launcher.py:119: RuntimeWarning: All-NaN slice encountered\n"
     ]
    },
    {
     "name": "stdout",
     "output_type": "stream",
     "text": [
      "59 03.01641\n"
     ]
    },
    {
     "name": "stderr",
     "output_type": "stream",
     "text": [
      "/Users/drounce/opt/anaconda3/envs/debris_thickness_global/lib/python3.6/site-packages/ipykernel_launcher.py:118: RuntimeWarning: All-NaN slice encountered\n",
      "/Users/drounce/opt/anaconda3/envs/debris_thickness_global/lib/python3.6/site-packages/ipykernel_launcher.py:119: RuntimeWarning: All-NaN slice encountered\n",
      "/Users/drounce/opt/anaconda3/envs/debris_thickness_global/lib/python3.6/site-packages/ipykernel_launcher.py:118: RuntimeWarning: All-NaN slice encountered\n",
      "/Users/drounce/opt/anaconda3/envs/debris_thickness_global/lib/python3.6/site-packages/ipykernel_launcher.py:119: RuntimeWarning: All-NaN slice encountered\n"
     ]
    },
    {
     "name": "stdout",
     "output_type": "stream",
     "text": [
      "60 03.01658\n",
      "61 03.01659\n"
     ]
    },
    {
     "name": "stderr",
     "output_type": "stream",
     "text": [
      "/Users/drounce/opt/anaconda3/envs/debris_thickness_global/lib/python3.6/site-packages/ipykernel_launcher.py:118: RuntimeWarning: All-NaN slice encountered\n",
      "/Users/drounce/opt/anaconda3/envs/debris_thickness_global/lib/python3.6/site-packages/ipykernel_launcher.py:119: RuntimeWarning: All-NaN slice encountered\n",
      "/Users/drounce/opt/anaconda3/envs/debris_thickness_global/lib/python3.6/site-packages/ipykernel_launcher.py:118: RuntimeWarning: All-NaN slice encountered\n",
      "/Users/drounce/opt/anaconda3/envs/debris_thickness_global/lib/python3.6/site-packages/ipykernel_launcher.py:119: RuntimeWarning: All-NaN slice encountered\n"
     ]
    },
    {
     "name": "stdout",
     "output_type": "stream",
     "text": [
      "62 03.01660\n",
      "63 03.01662\n"
     ]
    },
    {
     "name": "stderr",
     "output_type": "stream",
     "text": [
      "/Users/drounce/opt/anaconda3/envs/debris_thickness_global/lib/python3.6/site-packages/ipykernel_launcher.py:118: RuntimeWarning: All-NaN slice encountered\n",
      "/Users/drounce/opt/anaconda3/envs/debris_thickness_global/lib/python3.6/site-packages/ipykernel_launcher.py:119: RuntimeWarning: All-NaN slice encountered\n",
      "/Users/drounce/opt/anaconda3/envs/debris_thickness_global/lib/python3.6/site-packages/ipykernel_launcher.py:118: RuntimeWarning: All-NaN slice encountered\n",
      "/Users/drounce/opt/anaconda3/envs/debris_thickness_global/lib/python3.6/site-packages/ipykernel_launcher.py:119: RuntimeWarning: All-NaN slice encountered\n"
     ]
    },
    {
     "name": "stdout",
     "output_type": "stream",
     "text": [
      "64 03.01663\n",
      "65 03.01664\n"
     ]
    },
    {
     "name": "stderr",
     "output_type": "stream",
     "text": [
      "/Users/drounce/opt/anaconda3/envs/debris_thickness_global/lib/python3.6/site-packages/ipykernel_launcher.py:118: RuntimeWarning: All-NaN slice encountered\n",
      "/Users/drounce/opt/anaconda3/envs/debris_thickness_global/lib/python3.6/site-packages/ipykernel_launcher.py:119: RuntimeWarning: All-NaN slice encountered\n",
      "/Users/drounce/opt/anaconda3/envs/debris_thickness_global/lib/python3.6/site-packages/ipykernel_launcher.py:118: RuntimeWarning: All-NaN slice encountered\n",
      "/Users/drounce/opt/anaconda3/envs/debris_thickness_global/lib/python3.6/site-packages/ipykernel_launcher.py:119: RuntimeWarning: All-NaN slice encountered\n"
     ]
    },
    {
     "name": "stdout",
     "output_type": "stream",
     "text": [
      "66 03.01666\n",
      "67 03.01667\n"
     ]
    },
    {
     "name": "stderr",
     "output_type": "stream",
     "text": [
      "/Users/drounce/opt/anaconda3/envs/debris_thickness_global/lib/python3.6/site-packages/ipykernel_launcher.py:118: RuntimeWarning: All-NaN slice encountered\n",
      "/Users/drounce/opt/anaconda3/envs/debris_thickness_global/lib/python3.6/site-packages/ipykernel_launcher.py:119: RuntimeWarning: All-NaN slice encountered\n",
      "/Users/drounce/opt/anaconda3/envs/debris_thickness_global/lib/python3.6/site-packages/ipykernel_launcher.py:118: RuntimeWarning: All-NaN slice encountered\n",
      "/Users/drounce/opt/anaconda3/envs/debris_thickness_global/lib/python3.6/site-packages/ipykernel_launcher.py:119: RuntimeWarning: All-NaN slice encountered\n"
     ]
    },
    {
     "name": "stdout",
     "output_type": "stream",
     "text": [
      "68 03.01671\n",
      "69 03.01674\n"
     ]
    },
    {
     "name": "stderr",
     "output_type": "stream",
     "text": [
      "/Users/drounce/opt/anaconda3/envs/debris_thickness_global/lib/python3.6/site-packages/ipykernel_launcher.py:118: RuntimeWarning: All-NaN slice encountered\n",
      "/Users/drounce/opt/anaconda3/envs/debris_thickness_global/lib/python3.6/site-packages/ipykernel_launcher.py:119: RuntimeWarning: All-NaN slice encountered\n"
     ]
    },
    {
     "name": "stdout",
     "output_type": "stream",
     "text": [
      "70 03.01678\n"
     ]
    },
    {
     "name": "stderr",
     "output_type": "stream",
     "text": [
      "/Users/drounce/opt/anaconda3/envs/debris_thickness_global/lib/python3.6/site-packages/ipykernel_launcher.py:118: RuntimeWarning: All-NaN slice encountered\n",
      "/Users/drounce/opt/anaconda3/envs/debris_thickness_global/lib/python3.6/site-packages/ipykernel_launcher.py:119: RuntimeWarning: All-NaN slice encountered\n",
      "/Users/drounce/opt/anaconda3/envs/debris_thickness_global/lib/python3.6/site-packages/ipykernel_launcher.py:118: RuntimeWarning: All-NaN slice encountered\n",
      "/Users/drounce/opt/anaconda3/envs/debris_thickness_global/lib/python3.6/site-packages/ipykernel_launcher.py:119: RuntimeWarning: All-NaN slice encountered\n"
     ]
    },
    {
     "name": "stdout",
     "output_type": "stream",
     "text": [
      "71 03.01679\n",
      "72 03.01687\n"
     ]
    },
    {
     "name": "stderr",
     "output_type": "stream",
     "text": [
      "/Users/drounce/opt/anaconda3/envs/debris_thickness_global/lib/python3.6/site-packages/ipykernel_launcher.py:118: RuntimeWarning: All-NaN slice encountered\n",
      "/Users/drounce/opt/anaconda3/envs/debris_thickness_global/lib/python3.6/site-packages/ipykernel_launcher.py:119: RuntimeWarning: All-NaN slice encountered\n"
     ]
    },
    {
     "name": "stdout",
     "output_type": "stream",
     "text": [
      "73 03.01689\n"
     ]
    },
    {
     "name": "stderr",
     "output_type": "stream",
     "text": [
      "/Users/drounce/opt/anaconda3/envs/debris_thickness_global/lib/python3.6/site-packages/ipykernel_launcher.py:118: RuntimeWarning: All-NaN slice encountered\n",
      "/Users/drounce/opt/anaconda3/envs/debris_thickness_global/lib/python3.6/site-packages/ipykernel_launcher.py:119: RuntimeWarning: All-NaN slice encountered\n",
      "/Users/drounce/opt/anaconda3/envs/debris_thickness_global/lib/python3.6/site-packages/ipykernel_launcher.py:118: RuntimeWarning: All-NaN slice encountered\n",
      "/Users/drounce/opt/anaconda3/envs/debris_thickness_global/lib/python3.6/site-packages/ipykernel_launcher.py:119: RuntimeWarning: All-NaN slice encountered\n"
     ]
    },
    {
     "name": "stdout",
     "output_type": "stream",
     "text": [
      "74 03.01694\n",
      "75 03.01699\n"
     ]
    },
    {
     "name": "stderr",
     "output_type": "stream",
     "text": [
      "/Users/drounce/opt/anaconda3/envs/debris_thickness_global/lib/python3.6/site-packages/ipykernel_launcher.py:118: RuntimeWarning: All-NaN slice encountered\n",
      "/Users/drounce/opt/anaconda3/envs/debris_thickness_global/lib/python3.6/site-packages/ipykernel_launcher.py:119: RuntimeWarning: All-NaN slice encountered\n",
      "/Users/drounce/opt/anaconda3/envs/debris_thickness_global/lib/python3.6/site-packages/ipykernel_launcher.py:118: RuntimeWarning: All-NaN slice encountered\n",
      "/Users/drounce/opt/anaconda3/envs/debris_thickness_global/lib/python3.6/site-packages/ipykernel_launcher.py:119: RuntimeWarning: All-NaN slice encountered\n"
     ]
    },
    {
     "name": "stdout",
     "output_type": "stream",
     "text": [
      "76 03.01704\n",
      "77 03.01707\n"
     ]
    },
    {
     "name": "stderr",
     "output_type": "stream",
     "text": [
      "/Users/drounce/opt/anaconda3/envs/debris_thickness_global/lib/python3.6/site-packages/ipykernel_launcher.py:118: RuntimeWarning: All-NaN slice encountered\n",
      "/Users/drounce/opt/anaconda3/envs/debris_thickness_global/lib/python3.6/site-packages/ipykernel_launcher.py:119: RuntimeWarning: All-NaN slice encountered\n"
     ]
    },
    {
     "name": "stdout",
     "output_type": "stream",
     "text": [
      "78 03.01710\n"
     ]
    },
    {
     "name": "stderr",
     "output_type": "stream",
     "text": [
      "/Users/drounce/opt/anaconda3/envs/debris_thickness_global/lib/python3.6/site-packages/ipykernel_launcher.py:118: RuntimeWarning: All-NaN slice encountered\n",
      "/Users/drounce/opt/anaconda3/envs/debris_thickness_global/lib/python3.6/site-packages/ipykernel_launcher.py:119: RuntimeWarning: All-NaN slice encountered\n"
     ]
    },
    {
     "name": "stdout",
     "output_type": "stream",
     "text": [
      "79 03.01714\n"
     ]
    },
    {
     "name": "stderr",
     "output_type": "stream",
     "text": [
      "/Users/drounce/opt/anaconda3/envs/debris_thickness_global/lib/python3.6/site-packages/ipykernel_launcher.py:118: RuntimeWarning: All-NaN slice encountered\n",
      "/Users/drounce/opt/anaconda3/envs/debris_thickness_global/lib/python3.6/site-packages/ipykernel_launcher.py:119: RuntimeWarning: All-NaN slice encountered\n"
     ]
    },
    {
     "name": "stdout",
     "output_type": "stream",
     "text": [
      "80 03.01719\n"
     ]
    },
    {
     "name": "stderr",
     "output_type": "stream",
     "text": [
      "/Users/drounce/opt/anaconda3/envs/debris_thickness_global/lib/python3.6/site-packages/ipykernel_launcher.py:118: RuntimeWarning: All-NaN slice encountered\n",
      "/Users/drounce/opt/anaconda3/envs/debris_thickness_global/lib/python3.6/site-packages/ipykernel_launcher.py:119: RuntimeWarning: All-NaN slice encountered\n"
     ]
    },
    {
     "name": "stdout",
     "output_type": "stream",
     "text": [
      "81 03.01723\n"
     ]
    },
    {
     "name": "stderr",
     "output_type": "stream",
     "text": [
      "/Users/drounce/opt/anaconda3/envs/debris_thickness_global/lib/python3.6/site-packages/ipykernel_launcher.py:118: RuntimeWarning: All-NaN slice encountered\n",
      "/Users/drounce/opt/anaconda3/envs/debris_thickness_global/lib/python3.6/site-packages/ipykernel_launcher.py:119: RuntimeWarning: All-NaN slice encountered\n",
      "/Users/drounce/opt/anaconda3/envs/debris_thickness_global/lib/python3.6/site-packages/ipykernel_launcher.py:118: RuntimeWarning: All-NaN slice encountered\n",
      "/Users/drounce/opt/anaconda3/envs/debris_thickness_global/lib/python3.6/site-packages/ipykernel_launcher.py:119: RuntimeWarning: All-NaN slice encountered\n"
     ]
    },
    {
     "name": "stdout",
     "output_type": "stream",
     "text": [
      "82 03.01727\n",
      "83 03.01729\n"
     ]
    },
    {
     "name": "stderr",
     "output_type": "stream",
     "text": [
      "/Users/drounce/opt/anaconda3/envs/debris_thickness_global/lib/python3.6/site-packages/ipykernel_launcher.py:118: RuntimeWarning: All-NaN slice encountered\n",
      "/Users/drounce/opt/anaconda3/envs/debris_thickness_global/lib/python3.6/site-packages/ipykernel_launcher.py:119: RuntimeWarning: All-NaN slice encountered\n"
     ]
    },
    {
     "name": "stdout",
     "output_type": "stream",
     "text": [
      "84 03.01730\n"
     ]
    },
    {
     "name": "stderr",
     "output_type": "stream",
     "text": [
      "/Users/drounce/opt/anaconda3/envs/debris_thickness_global/lib/python3.6/site-packages/ipykernel_launcher.py:118: RuntimeWarning: All-NaN slice encountered\n",
      "/Users/drounce/opt/anaconda3/envs/debris_thickness_global/lib/python3.6/site-packages/ipykernel_launcher.py:119: RuntimeWarning: All-NaN slice encountered\n"
     ]
    },
    {
     "name": "stdout",
     "output_type": "stream",
     "text": [
      "85 03.01731\n"
     ]
    },
    {
     "name": "stderr",
     "output_type": "stream",
     "text": [
      "/Users/drounce/opt/anaconda3/envs/debris_thickness_global/lib/python3.6/site-packages/ipykernel_launcher.py:118: RuntimeWarning: All-NaN slice encountered\n",
      "/Users/drounce/opt/anaconda3/envs/debris_thickness_global/lib/python3.6/site-packages/ipykernel_launcher.py:119: RuntimeWarning: All-NaN slice encountered\n"
     ]
    },
    {
     "name": "stdout",
     "output_type": "stream",
     "text": [
      "86 03.01733\n"
     ]
    },
    {
     "name": "stderr",
     "output_type": "stream",
     "text": [
      "/Users/drounce/opt/anaconda3/envs/debris_thickness_global/lib/python3.6/site-packages/ipykernel_launcher.py:118: RuntimeWarning: All-NaN slice encountered\n",
      "/Users/drounce/opt/anaconda3/envs/debris_thickness_global/lib/python3.6/site-packages/ipykernel_launcher.py:119: RuntimeWarning: All-NaN slice encountered\n"
     ]
    },
    {
     "name": "stdout",
     "output_type": "stream",
     "text": [
      "87 03.01742\n"
     ]
    },
    {
     "name": "stderr",
     "output_type": "stream",
     "text": [
      "/Users/drounce/opt/anaconda3/envs/debris_thickness_global/lib/python3.6/site-packages/ipykernel_launcher.py:118: RuntimeWarning: All-NaN slice encountered\n",
      "/Users/drounce/opt/anaconda3/envs/debris_thickness_global/lib/python3.6/site-packages/ipykernel_launcher.py:119: RuntimeWarning: All-NaN slice encountered\n"
     ]
    },
    {
     "name": "stdout",
     "output_type": "stream",
     "text": [
      "88 03.01745\n"
     ]
    },
    {
     "name": "stderr",
     "output_type": "stream",
     "text": [
      "/Users/drounce/opt/anaconda3/envs/debris_thickness_global/lib/python3.6/site-packages/ipykernel_launcher.py:118: RuntimeWarning: All-NaN slice encountered\n",
      "/Users/drounce/opt/anaconda3/envs/debris_thickness_global/lib/python3.6/site-packages/ipykernel_launcher.py:119: RuntimeWarning: All-NaN slice encountered\n"
     ]
    },
    {
     "name": "stdout",
     "output_type": "stream",
     "text": [
      "89 03.01746\n"
     ]
    },
    {
     "name": "stderr",
     "output_type": "stream",
     "text": [
      "/Users/drounce/opt/anaconda3/envs/debris_thickness_global/lib/python3.6/site-packages/ipykernel_launcher.py:118: RuntimeWarning: All-NaN slice encountered\n",
      "/Users/drounce/opt/anaconda3/envs/debris_thickness_global/lib/python3.6/site-packages/ipykernel_launcher.py:119: RuntimeWarning: All-NaN slice encountered\n"
     ]
    },
    {
     "name": "stdout",
     "output_type": "stream",
     "text": [
      "90 03.01750\n"
     ]
    },
    {
     "name": "stderr",
     "output_type": "stream",
     "text": [
      "/Users/drounce/opt/anaconda3/envs/debris_thickness_global/lib/python3.6/site-packages/ipykernel_launcher.py:118: RuntimeWarning: All-NaN slice encountered\n",
      "/Users/drounce/opt/anaconda3/envs/debris_thickness_global/lib/python3.6/site-packages/ipykernel_launcher.py:119: RuntimeWarning: All-NaN slice encountered\n"
     ]
    },
    {
     "name": "stdout",
     "output_type": "stream",
     "text": [
      "91 03.01765\n"
     ]
    },
    {
     "name": "stderr",
     "output_type": "stream",
     "text": [
      "/Users/drounce/opt/anaconda3/envs/debris_thickness_global/lib/python3.6/site-packages/ipykernel_launcher.py:118: RuntimeWarning: All-NaN slice encountered\n",
      "/Users/drounce/opt/anaconda3/envs/debris_thickness_global/lib/python3.6/site-packages/ipykernel_launcher.py:119: RuntimeWarning: All-NaN slice encountered\n",
      "/Users/drounce/opt/anaconda3/envs/debris_thickness_global/lib/python3.6/site-packages/ipykernel_launcher.py:118: RuntimeWarning: All-NaN slice encountered\n",
      "/Users/drounce/opt/anaconda3/envs/debris_thickness_global/lib/python3.6/site-packages/ipykernel_launcher.py:119: RuntimeWarning: All-NaN slice encountered\n"
     ]
    },
    {
     "name": "stdout",
     "output_type": "stream",
     "text": [
      "92 03.01772\n",
      "93 03.01777\n"
     ]
    },
    {
     "name": "stderr",
     "output_type": "stream",
     "text": [
      "/Users/drounce/opt/anaconda3/envs/debris_thickness_global/lib/python3.6/site-packages/ipykernel_launcher.py:118: RuntimeWarning: All-NaN slice encountered\n",
      "/Users/drounce/opt/anaconda3/envs/debris_thickness_global/lib/python3.6/site-packages/ipykernel_launcher.py:119: RuntimeWarning: All-NaN slice encountered\n"
     ]
    },
    {
     "name": "stdout",
     "output_type": "stream",
     "text": [
      "94 03.01785\n"
     ]
    },
    {
     "name": "stderr",
     "output_type": "stream",
     "text": [
      "/Users/drounce/opt/anaconda3/envs/debris_thickness_global/lib/python3.6/site-packages/ipykernel_launcher.py:118: RuntimeWarning: All-NaN slice encountered\n",
      "/Users/drounce/opt/anaconda3/envs/debris_thickness_global/lib/python3.6/site-packages/ipykernel_launcher.py:119: RuntimeWarning: All-NaN slice encountered\n"
     ]
    },
    {
     "name": "stdout",
     "output_type": "stream",
     "text": [
      "95 03.01892\n"
     ]
    },
    {
     "name": "stderr",
     "output_type": "stream",
     "text": [
      "/Users/drounce/opt/anaconda3/envs/debris_thickness_global/lib/python3.6/site-packages/ipykernel_launcher.py:118: RuntimeWarning: All-NaN slice encountered\n",
      "/Users/drounce/opt/anaconda3/envs/debris_thickness_global/lib/python3.6/site-packages/ipykernel_launcher.py:119: RuntimeWarning: All-NaN slice encountered\n"
     ]
    },
    {
     "name": "stdout",
     "output_type": "stream",
     "text": [
      "96 03.01897\n"
     ]
    },
    {
     "name": "stderr",
     "output_type": "stream",
     "text": [
      "/Users/drounce/opt/anaconda3/envs/debris_thickness_global/lib/python3.6/site-packages/ipykernel_launcher.py:118: RuntimeWarning: All-NaN slice encountered\n",
      "/Users/drounce/opt/anaconda3/envs/debris_thickness_global/lib/python3.6/site-packages/ipykernel_launcher.py:119: RuntimeWarning: All-NaN slice encountered\n",
      "/Users/drounce/opt/anaconda3/envs/debris_thickness_global/lib/python3.6/site-packages/ipykernel_launcher.py:118: RuntimeWarning: All-NaN slice encountered\n",
      "/Users/drounce/opt/anaconda3/envs/debris_thickness_global/lib/python3.6/site-packages/ipykernel_launcher.py:119: RuntimeWarning: All-NaN slice encountered\n"
     ]
    },
    {
     "name": "stdout",
     "output_type": "stream",
     "text": [
      "97 03.01994\n",
      "98 03.02183\n"
     ]
    },
    {
     "name": "stderr",
     "output_type": "stream",
     "text": [
      "/Users/drounce/opt/anaconda3/envs/debris_thickness_global/lib/python3.6/site-packages/ipykernel_launcher.py:118: RuntimeWarning: All-NaN slice encountered\n",
      "/Users/drounce/opt/anaconda3/envs/debris_thickness_global/lib/python3.6/site-packages/ipykernel_launcher.py:119: RuntimeWarning: All-NaN slice encountered\n",
      "/Users/drounce/opt/anaconda3/envs/debris_thickness_global/lib/python3.6/site-packages/ipykernel_launcher.py:118: RuntimeWarning: All-NaN slice encountered\n",
      "/Users/drounce/opt/anaconda3/envs/debris_thickness_global/lib/python3.6/site-packages/ipykernel_launcher.py:119: RuntimeWarning: All-NaN slice encountered\n"
     ]
    },
    {
     "name": "stdout",
     "output_type": "stream",
     "text": [
      "99 03.02230\n",
      "100 03.02275\n"
     ]
    },
    {
     "name": "stderr",
     "output_type": "stream",
     "text": [
      "/Users/drounce/opt/anaconda3/envs/debris_thickness_global/lib/python3.6/site-packages/ipykernel_launcher.py:118: RuntimeWarning: All-NaN slice encountered\n",
      "/Users/drounce/opt/anaconda3/envs/debris_thickness_global/lib/python3.6/site-packages/ipykernel_launcher.py:119: RuntimeWarning: All-NaN slice encountered\n",
      "/Users/drounce/opt/anaconda3/envs/debris_thickness_global/lib/python3.6/site-packages/ipykernel_launcher.py:118: RuntimeWarning: All-NaN slice encountered\n",
      "/Users/drounce/opt/anaconda3/envs/debris_thickness_global/lib/python3.6/site-packages/ipykernel_launcher.py:119: RuntimeWarning: All-NaN slice encountered\n"
     ]
    },
    {
     "name": "stdout",
     "output_type": "stream",
     "text": [
      "101 03.02283\n",
      "102 03.02429\n"
     ]
    },
    {
     "name": "stderr",
     "output_type": "stream",
     "text": [
      "/Users/drounce/opt/anaconda3/envs/debris_thickness_global/lib/python3.6/site-packages/ipykernel_launcher.py:118: RuntimeWarning: All-NaN slice encountered\n",
      "/Users/drounce/opt/anaconda3/envs/debris_thickness_global/lib/python3.6/site-packages/ipykernel_launcher.py:119: RuntimeWarning: All-NaN slice encountered\n"
     ]
    },
    {
     "name": "stdout",
     "output_type": "stream",
     "text": [
      "103 03.02430\n"
     ]
    },
    {
     "name": "stderr",
     "output_type": "stream",
     "text": [
      "/Users/drounce/opt/anaconda3/envs/debris_thickness_global/lib/python3.6/site-packages/ipykernel_launcher.py:118: RuntimeWarning: All-NaN slice encountered\n",
      "/Users/drounce/opt/anaconda3/envs/debris_thickness_global/lib/python3.6/site-packages/ipykernel_launcher.py:119: RuntimeWarning: All-NaN slice encountered\n"
     ]
    },
    {
     "name": "stdout",
     "output_type": "stream",
     "text": [
      "104 03.02431\n"
     ]
    },
    {
     "name": "stderr",
     "output_type": "stream",
     "text": [
      "/Users/drounce/opt/anaconda3/envs/debris_thickness_global/lib/python3.6/site-packages/ipykernel_launcher.py:118: RuntimeWarning: All-NaN slice encountered\n",
      "/Users/drounce/opt/anaconda3/envs/debris_thickness_global/lib/python3.6/site-packages/ipykernel_launcher.py:119: RuntimeWarning: All-NaN slice encountered\n",
      "/Users/drounce/opt/anaconda3/envs/debris_thickness_global/lib/python3.6/site-packages/ipykernel_launcher.py:118: RuntimeWarning: All-NaN slice encountered\n",
      "/Users/drounce/opt/anaconda3/envs/debris_thickness_global/lib/python3.6/site-packages/ipykernel_launcher.py:119: RuntimeWarning: All-NaN slice encountered\n"
     ]
    },
    {
     "name": "stdout",
     "output_type": "stream",
     "text": [
      "105 03.02432\n",
      "106 03.02434\n"
     ]
    },
    {
     "name": "stderr",
     "output_type": "stream",
     "text": [
      "/Users/drounce/opt/anaconda3/envs/debris_thickness_global/lib/python3.6/site-packages/ipykernel_launcher.py:118: RuntimeWarning: All-NaN slice encountered\n",
      "/Users/drounce/opt/anaconda3/envs/debris_thickness_global/lib/python3.6/site-packages/ipykernel_launcher.py:119: RuntimeWarning: All-NaN slice encountered\n"
     ]
    },
    {
     "name": "stdout",
     "output_type": "stream",
     "text": [
      "107 03.02435\n"
     ]
    },
    {
     "name": "stderr",
     "output_type": "stream",
     "text": [
      "/Users/drounce/opt/anaconda3/envs/debris_thickness_global/lib/python3.6/site-packages/ipykernel_launcher.py:118: RuntimeWarning: All-NaN slice encountered\n",
      "/Users/drounce/opt/anaconda3/envs/debris_thickness_global/lib/python3.6/site-packages/ipykernel_launcher.py:119: RuntimeWarning: All-NaN slice encountered\n",
      "/Users/drounce/opt/anaconda3/envs/debris_thickness_global/lib/python3.6/site-packages/ipykernel_launcher.py:118: RuntimeWarning: All-NaN slice encountered\n",
      "/Users/drounce/opt/anaconda3/envs/debris_thickness_global/lib/python3.6/site-packages/ipykernel_launcher.py:119: RuntimeWarning: All-NaN slice encountered\n"
     ]
    },
    {
     "name": "stdout",
     "output_type": "stream",
     "text": [
      "108 03.02437\n",
      "109 03.02438\n"
     ]
    },
    {
     "name": "stderr",
     "output_type": "stream",
     "text": [
      "/Users/drounce/opt/anaconda3/envs/debris_thickness_global/lib/python3.6/site-packages/ipykernel_launcher.py:118: RuntimeWarning: All-NaN slice encountered\n",
      "/Users/drounce/opt/anaconda3/envs/debris_thickness_global/lib/python3.6/site-packages/ipykernel_launcher.py:119: RuntimeWarning: All-NaN slice encountered\n"
     ]
    },
    {
     "name": "stdout",
     "output_type": "stream",
     "text": [
      "110 03.02446\n"
     ]
    },
    {
     "name": "stderr",
     "output_type": "stream",
     "text": [
      "/Users/drounce/opt/anaconda3/envs/debris_thickness_global/lib/python3.6/site-packages/ipykernel_launcher.py:118: RuntimeWarning: All-NaN slice encountered\n",
      "/Users/drounce/opt/anaconda3/envs/debris_thickness_global/lib/python3.6/site-packages/ipykernel_launcher.py:119: RuntimeWarning: All-NaN slice encountered\n"
     ]
    },
    {
     "name": "stdout",
     "output_type": "stream",
     "text": [
      "111 03.02448\n"
     ]
    },
    {
     "name": "stderr",
     "output_type": "stream",
     "text": [
      "/Users/drounce/opt/anaconda3/envs/debris_thickness_global/lib/python3.6/site-packages/ipykernel_launcher.py:118: RuntimeWarning: All-NaN slice encountered\n",
      "/Users/drounce/opt/anaconda3/envs/debris_thickness_global/lib/python3.6/site-packages/ipykernel_launcher.py:119: RuntimeWarning: All-NaN slice encountered\n"
     ]
    },
    {
     "name": "stdout",
     "output_type": "stream",
     "text": [
      "112 03.02451\n"
     ]
    },
    {
     "name": "stderr",
     "output_type": "stream",
     "text": [
      "/Users/drounce/opt/anaconda3/envs/debris_thickness_global/lib/python3.6/site-packages/ipykernel_launcher.py:118: RuntimeWarning: All-NaN slice encountered\n",
      "/Users/drounce/opt/anaconda3/envs/debris_thickness_global/lib/python3.6/site-packages/ipykernel_launcher.py:119: RuntimeWarning: All-NaN slice encountered\n"
     ]
    },
    {
     "name": "stdout",
     "output_type": "stream",
     "text": [
      "113 03.02452\n"
     ]
    },
    {
     "name": "stderr",
     "output_type": "stream",
     "text": [
      "/Users/drounce/opt/anaconda3/envs/debris_thickness_global/lib/python3.6/site-packages/ipykernel_launcher.py:118: RuntimeWarning: All-NaN slice encountered\n",
      "/Users/drounce/opt/anaconda3/envs/debris_thickness_global/lib/python3.6/site-packages/ipykernel_launcher.py:119: RuntimeWarning: All-NaN slice encountered\n",
      "/Users/drounce/opt/anaconda3/envs/debris_thickness_global/lib/python3.6/site-packages/ipykernel_launcher.py:118: RuntimeWarning: All-NaN slice encountered\n",
      "/Users/drounce/opt/anaconda3/envs/debris_thickness_global/lib/python3.6/site-packages/ipykernel_launcher.py:119: RuntimeWarning: All-NaN slice encountered\n"
     ]
    },
    {
     "name": "stdout",
     "output_type": "stream",
     "text": [
      "114 03.02454\n",
      "115 03.02455\n"
     ]
    },
    {
     "name": "stderr",
     "output_type": "stream",
     "text": [
      "/Users/drounce/opt/anaconda3/envs/debris_thickness_global/lib/python3.6/site-packages/ipykernel_launcher.py:118: RuntimeWarning: All-NaN slice encountered\n",
      "/Users/drounce/opt/anaconda3/envs/debris_thickness_global/lib/python3.6/site-packages/ipykernel_launcher.py:119: RuntimeWarning: All-NaN slice encountered\n"
     ]
    },
    {
     "name": "stdout",
     "output_type": "stream",
     "text": [
      "116 03.02456\n",
      "117 03.02457\n"
     ]
    },
    {
     "name": "stderr",
     "output_type": "stream",
     "text": [
      "/Users/drounce/opt/anaconda3/envs/debris_thickness_global/lib/python3.6/site-packages/ipykernel_launcher.py:118: RuntimeWarning: All-NaN slice encountered\n",
      "/Users/drounce/opt/anaconda3/envs/debris_thickness_global/lib/python3.6/site-packages/ipykernel_launcher.py:119: RuntimeWarning: All-NaN slice encountered\n",
      "/Users/drounce/opt/anaconda3/envs/debris_thickness_global/lib/python3.6/site-packages/ipykernel_launcher.py:118: RuntimeWarning: All-NaN slice encountered\n",
      "/Users/drounce/opt/anaconda3/envs/debris_thickness_global/lib/python3.6/site-packages/ipykernel_launcher.py:119: RuntimeWarning: All-NaN slice encountered\n"
     ]
    },
    {
     "name": "stdout",
     "output_type": "stream",
     "text": [
      "118 03.02462\n",
      "119 03.02463\n"
     ]
    },
    {
     "name": "stderr",
     "output_type": "stream",
     "text": [
      "/Users/drounce/opt/anaconda3/envs/debris_thickness_global/lib/python3.6/site-packages/ipykernel_launcher.py:118: RuntimeWarning: All-NaN slice encountered\n",
      "/Users/drounce/opt/anaconda3/envs/debris_thickness_global/lib/python3.6/site-packages/ipykernel_launcher.py:119: RuntimeWarning: All-NaN slice encountered\n"
     ]
    },
    {
     "name": "stdout",
     "output_type": "stream",
     "text": [
      "120 03.02464\n"
     ]
    },
    {
     "name": "stderr",
     "output_type": "stream",
     "text": [
      "/Users/drounce/opt/anaconda3/envs/debris_thickness_global/lib/python3.6/site-packages/ipykernel_launcher.py:118: RuntimeWarning: All-NaN slice encountered\n",
      "/Users/drounce/opt/anaconda3/envs/debris_thickness_global/lib/python3.6/site-packages/ipykernel_launcher.py:119: RuntimeWarning: All-NaN slice encountered\n"
     ]
    },
    {
     "name": "stdout",
     "output_type": "stream",
     "text": [
      "121 03.02465\n"
     ]
    },
    {
     "name": "stderr",
     "output_type": "stream",
     "text": [
      "/Users/drounce/opt/anaconda3/envs/debris_thickness_global/lib/python3.6/site-packages/ipykernel_launcher.py:118: RuntimeWarning: All-NaN slice encountered\n",
      "/Users/drounce/opt/anaconda3/envs/debris_thickness_global/lib/python3.6/site-packages/ipykernel_launcher.py:119: RuntimeWarning: All-NaN slice encountered\n"
     ]
    },
    {
     "name": "stdout",
     "output_type": "stream",
     "text": [
      "122 03.02466\n"
     ]
    },
    {
     "name": "stderr",
     "output_type": "stream",
     "text": [
      "/Users/drounce/opt/anaconda3/envs/debris_thickness_global/lib/python3.6/site-packages/ipykernel_launcher.py:118: RuntimeWarning: All-NaN slice encountered\n",
      "/Users/drounce/opt/anaconda3/envs/debris_thickness_global/lib/python3.6/site-packages/ipykernel_launcher.py:119: RuntimeWarning: All-NaN slice encountered\n"
     ]
    },
    {
     "name": "stdout",
     "output_type": "stream",
     "text": [
      "123 03.02467\n",
      "124 03.02488\n"
     ]
    },
    {
     "name": "stderr",
     "output_type": "stream",
     "text": [
      "/Users/drounce/opt/anaconda3/envs/debris_thickness_global/lib/python3.6/site-packages/ipykernel_launcher.py:118: RuntimeWarning: All-NaN slice encountered\n",
      "/Users/drounce/opt/anaconda3/envs/debris_thickness_global/lib/python3.6/site-packages/ipykernel_launcher.py:119: RuntimeWarning: All-NaN slice encountered\n"
     ]
    },
    {
     "name": "stdout",
     "output_type": "stream",
     "text": [
      "125 03.02668\n"
     ]
    },
    {
     "name": "stderr",
     "output_type": "stream",
     "text": [
      "/Users/drounce/opt/anaconda3/envs/debris_thickness_global/lib/python3.6/site-packages/ipykernel_launcher.py:118: RuntimeWarning: All-NaN slice encountered\n",
      "/Users/drounce/opt/anaconda3/envs/debris_thickness_global/lib/python3.6/site-packages/ipykernel_launcher.py:119: RuntimeWarning: All-NaN slice encountered\n"
     ]
    },
    {
     "name": "stdout",
     "output_type": "stream",
     "text": [
      "126 03.02681\n",
      "127 03.02687\n"
     ]
    },
    {
     "name": "stderr",
     "output_type": "stream",
     "text": [
      "/Users/drounce/opt/anaconda3/envs/debris_thickness_global/lib/python3.6/site-packages/ipykernel_launcher.py:118: RuntimeWarning: All-NaN slice encountered\n",
      "/Users/drounce/opt/anaconda3/envs/debris_thickness_global/lib/python3.6/site-packages/ipykernel_launcher.py:119: RuntimeWarning: All-NaN slice encountered\n"
     ]
    },
    {
     "name": "stdout",
     "output_type": "stream",
     "text": [
      "128 03.02836\n"
     ]
    },
    {
     "name": "stderr",
     "output_type": "stream",
     "text": [
      "/Users/drounce/opt/anaconda3/envs/debris_thickness_global/lib/python3.6/site-packages/ipykernel_launcher.py:118: RuntimeWarning: All-NaN slice encountered\n",
      "/Users/drounce/opt/anaconda3/envs/debris_thickness_global/lib/python3.6/site-packages/ipykernel_launcher.py:119: RuntimeWarning: All-NaN slice encountered\n"
     ]
    },
    {
     "name": "stdout",
     "output_type": "stream",
     "text": [
      "129 03.02849\n"
     ]
    },
    {
     "name": "stderr",
     "output_type": "stream",
     "text": [
      "/Users/drounce/opt/anaconda3/envs/debris_thickness_global/lib/python3.6/site-packages/ipykernel_launcher.py:118: RuntimeWarning: All-NaN slice encountered\n",
      "/Users/drounce/opt/anaconda3/envs/debris_thickness_global/lib/python3.6/site-packages/ipykernel_launcher.py:119: RuntimeWarning: All-NaN slice encountered\n"
     ]
    },
    {
     "name": "stdout",
     "output_type": "stream",
     "text": [
      "130 03.02904\n"
     ]
    },
    {
     "name": "stderr",
     "output_type": "stream",
     "text": [
      "/Users/drounce/opt/anaconda3/envs/debris_thickness_global/lib/python3.6/site-packages/ipykernel_launcher.py:118: RuntimeWarning: All-NaN slice encountered\n",
      "/Users/drounce/opt/anaconda3/envs/debris_thickness_global/lib/python3.6/site-packages/ipykernel_launcher.py:119: RuntimeWarning: All-NaN slice encountered\n"
     ]
    },
    {
     "name": "stdout",
     "output_type": "stream",
     "text": [
      "131 03.03274\n"
     ]
    },
    {
     "name": "stderr",
     "output_type": "stream",
     "text": [
      "/Users/drounce/opt/anaconda3/envs/debris_thickness_global/lib/python3.6/site-packages/ipykernel_launcher.py:118: RuntimeWarning: All-NaN slice encountered\n",
      "/Users/drounce/opt/anaconda3/envs/debris_thickness_global/lib/python3.6/site-packages/ipykernel_launcher.py:119: RuntimeWarning: All-NaN slice encountered\n"
     ]
    },
    {
     "name": "stdout",
     "output_type": "stream",
     "text": [
      "132 03.03299\n"
     ]
    },
    {
     "name": "stderr",
     "output_type": "stream",
     "text": [
      "/Users/drounce/opt/anaconda3/envs/debris_thickness_global/lib/python3.6/site-packages/ipykernel_launcher.py:118: RuntimeWarning: All-NaN slice encountered\n",
      "/Users/drounce/opt/anaconda3/envs/debris_thickness_global/lib/python3.6/site-packages/ipykernel_launcher.py:119: RuntimeWarning: All-NaN slice encountered\n"
     ]
    },
    {
     "name": "stdout",
     "output_type": "stream",
     "text": [
      "133 03.03303\n"
     ]
    },
    {
     "name": "stderr",
     "output_type": "stream",
     "text": [
      "/Users/drounce/opt/anaconda3/envs/debris_thickness_global/lib/python3.6/site-packages/ipykernel_launcher.py:118: RuntimeWarning: All-NaN slice encountered\n",
      "/Users/drounce/opt/anaconda3/envs/debris_thickness_global/lib/python3.6/site-packages/ipykernel_launcher.py:119: RuntimeWarning: All-NaN slice encountered\n"
     ]
    },
    {
     "name": "stdout",
     "output_type": "stream",
     "text": [
      "134 03.03314\n"
     ]
    },
    {
     "name": "stderr",
     "output_type": "stream",
     "text": [
      "/Users/drounce/opt/anaconda3/envs/debris_thickness_global/lib/python3.6/site-packages/ipykernel_launcher.py:118: RuntimeWarning: All-NaN slice encountered\n",
      "/Users/drounce/opt/anaconda3/envs/debris_thickness_global/lib/python3.6/site-packages/ipykernel_launcher.py:119: RuntimeWarning: All-NaN slice encountered\n"
     ]
    },
    {
     "name": "stdout",
     "output_type": "stream",
     "text": [
      "135 03.03389\n"
     ]
    },
    {
     "name": "stderr",
     "output_type": "stream",
     "text": [
      "/Users/drounce/opt/anaconda3/envs/debris_thickness_global/lib/python3.6/site-packages/ipykernel_launcher.py:118: RuntimeWarning: All-NaN slice encountered\n",
      "/Users/drounce/opt/anaconda3/envs/debris_thickness_global/lib/python3.6/site-packages/ipykernel_launcher.py:119: RuntimeWarning: All-NaN slice encountered\n",
      "/Users/drounce/opt/anaconda3/envs/debris_thickness_global/lib/python3.6/site-packages/ipykernel_launcher.py:118: RuntimeWarning: All-NaN slice encountered\n",
      "/Users/drounce/opt/anaconda3/envs/debris_thickness_global/lib/python3.6/site-packages/ipykernel_launcher.py:119: RuntimeWarning: All-NaN slice encountered\n"
     ]
    },
    {
     "name": "stdout",
     "output_type": "stream",
     "text": [
      "136 03.03450\n",
      "137 03.03492\n"
     ]
    },
    {
     "name": "stderr",
     "output_type": "stream",
     "text": [
      "/Users/drounce/opt/anaconda3/envs/debris_thickness_global/lib/python3.6/site-packages/ipykernel_launcher.py:118: RuntimeWarning: All-NaN slice encountered\n",
      "/Users/drounce/opt/anaconda3/envs/debris_thickness_global/lib/python3.6/site-packages/ipykernel_launcher.py:119: RuntimeWarning: All-NaN slice encountered\n",
      "/Users/drounce/opt/anaconda3/envs/debris_thickness_global/lib/python3.6/site-packages/ipykernel_launcher.py:118: RuntimeWarning: All-NaN slice encountered\n",
      "/Users/drounce/opt/anaconda3/envs/debris_thickness_global/lib/python3.6/site-packages/ipykernel_launcher.py:119: RuntimeWarning: All-NaN slice encountered\n",
      "/Users/drounce/opt/anaconda3/envs/debris_thickness_global/lib/python3.6/site-packages/ipykernel_launcher.py:118: RuntimeWarning: All-NaN slice encountered\n",
      "/Users/drounce/opt/anaconda3/envs/debris_thickness_global/lib/python3.6/site-packages/ipykernel_launcher.py:119: RuntimeWarning: All-NaN slice encountered\n"
     ]
    },
    {
     "name": "stdout",
     "output_type": "stream",
     "text": [
      "138 03.03888\n",
      "139 03.03931\n",
      "140 03.03954\n"
     ]
    },
    {
     "name": "stderr",
     "output_type": "stream",
     "text": [
      "/Users/drounce/opt/anaconda3/envs/debris_thickness_global/lib/python3.6/site-packages/ipykernel_launcher.py:118: RuntimeWarning: All-NaN slice encountered\n",
      "/Users/drounce/opt/anaconda3/envs/debris_thickness_global/lib/python3.6/site-packages/ipykernel_launcher.py:119: RuntimeWarning: All-NaN slice encountered\n"
     ]
    },
    {
     "name": "stdout",
     "output_type": "stream",
     "text": [
      "141 03.03956\n"
     ]
    },
    {
     "name": "stderr",
     "output_type": "stream",
     "text": [
      "/Users/drounce/opt/anaconda3/envs/debris_thickness_global/lib/python3.6/site-packages/ipykernel_launcher.py:118: RuntimeWarning: All-NaN slice encountered\n",
      "/Users/drounce/opt/anaconda3/envs/debris_thickness_global/lib/python3.6/site-packages/ipykernel_launcher.py:119: RuntimeWarning: All-NaN slice encountered\n"
     ]
    },
    {
     "name": "stdout",
     "output_type": "stream",
     "text": [
      "142 03.03967\n"
     ]
    },
    {
     "name": "stderr",
     "output_type": "stream",
     "text": [
      "/Users/drounce/opt/anaconda3/envs/debris_thickness_global/lib/python3.6/site-packages/ipykernel_launcher.py:118: RuntimeWarning: All-NaN slice encountered\n",
      "/Users/drounce/opt/anaconda3/envs/debris_thickness_global/lib/python3.6/site-packages/ipykernel_launcher.py:119: RuntimeWarning: All-NaN slice encountered\n"
     ]
    },
    {
     "name": "stdout",
     "output_type": "stream",
     "text": [
      "143 03.03984\n"
     ]
    },
    {
     "name": "stderr",
     "output_type": "stream",
     "text": [
      "/Users/drounce/opt/anaconda3/envs/debris_thickness_global/lib/python3.6/site-packages/ipykernel_launcher.py:118: RuntimeWarning: All-NaN slice encountered\n",
      "/Users/drounce/opt/anaconda3/envs/debris_thickness_global/lib/python3.6/site-packages/ipykernel_launcher.py:119: RuntimeWarning: All-NaN slice encountered\n"
     ]
    },
    {
     "name": "stdout",
     "output_type": "stream",
     "text": [
      "144 03.03989\n"
     ]
    },
    {
     "name": "stderr",
     "output_type": "stream",
     "text": [
      "/Users/drounce/opt/anaconda3/envs/debris_thickness_global/lib/python3.6/site-packages/ipykernel_launcher.py:118: RuntimeWarning: All-NaN slice encountered\n",
      "/Users/drounce/opt/anaconda3/envs/debris_thickness_global/lib/python3.6/site-packages/ipykernel_launcher.py:119: RuntimeWarning: All-NaN slice encountered\n"
     ]
    },
    {
     "name": "stdout",
     "output_type": "stream",
     "text": [
      "145 03.03992\n"
     ]
    },
    {
     "name": "stderr",
     "output_type": "stream",
     "text": [
      "/Users/drounce/opt/anaconda3/envs/debris_thickness_global/lib/python3.6/site-packages/ipykernel_launcher.py:118: RuntimeWarning: All-NaN slice encountered\n",
      "/Users/drounce/opt/anaconda3/envs/debris_thickness_global/lib/python3.6/site-packages/ipykernel_launcher.py:119: RuntimeWarning: All-NaN slice encountered\n"
     ]
    },
    {
     "name": "stdout",
     "output_type": "stream",
     "text": [
      "146 03.04381\n"
     ]
    },
    {
     "name": "stderr",
     "output_type": "stream",
     "text": [
      "/Users/drounce/opt/anaconda3/envs/debris_thickness_global/lib/python3.6/site-packages/ipykernel_launcher.py:118: RuntimeWarning: All-NaN slice encountered\n",
      "/Users/drounce/opt/anaconda3/envs/debris_thickness_global/lib/python3.6/site-packages/ipykernel_launcher.py:119: RuntimeWarning: All-NaN slice encountered\n"
     ]
    },
    {
     "name": "stdout",
     "output_type": "stream",
     "text": [
      "147 03.04384\n"
     ]
    },
    {
     "name": "stderr",
     "output_type": "stream",
     "text": [
      "/Users/drounce/opt/anaconda3/envs/debris_thickness_global/lib/python3.6/site-packages/ipykernel_launcher.py:118: RuntimeWarning: All-NaN slice encountered\n",
      "/Users/drounce/opt/anaconda3/envs/debris_thickness_global/lib/python3.6/site-packages/ipykernel_launcher.py:119: RuntimeWarning: All-NaN slice encountered\n"
     ]
    },
    {
     "name": "stdout",
     "output_type": "stream",
     "text": [
      "148 03.04385\n"
     ]
    },
    {
     "name": "stderr",
     "output_type": "stream",
     "text": [
      "/Users/drounce/opt/anaconda3/envs/debris_thickness_global/lib/python3.6/site-packages/ipykernel_launcher.py:118: RuntimeWarning: All-NaN slice encountered\n",
      "/Users/drounce/opt/anaconda3/envs/debris_thickness_global/lib/python3.6/site-packages/ipykernel_launcher.py:119: RuntimeWarning: All-NaN slice encountered\n"
     ]
    }
   ],
   "source": [
    "extrap_uncalibrated_glaciers = True\n",
    "overwrite_hd = False\n",
    "\n",
    "hd_fp = debris_prms.hd_fp + 'extrap/'\n",
    "if not os.path.exists(hd_fp):\n",
    "    os.makedirs(hd_fp)\n",
    "    \n",
    "mf_fp = hd_fp + 'meltfactor/'\n",
    "if not os.path.exists(mf_fp):\n",
    "    os.makedirs(mf_fp)\n",
    "    \n",
    "fig_extrap = debris_prms.output_fig_fp + debris_prms.roi + '/' + 'extrap/'\n",
    "if not os.path.exists(fig_extrap):\n",
    "    os.makedirs(fig_extrap)\n",
    "\n",
    "if extrap_uncalibrated_glaciers:\n",
    "    \n",
    "    # ===== NEAREST GLACIERS WITH DATA =====\n",
    "    n_glac_nearest = 1000\n",
    "    if n_glac_nearest > main_glac_rgi_tsopt.shape[0]:\n",
    "        n_glac_nearest = main_glac_rgi_tsopt.shape[0]\n",
    "\n",
    "    nearest_dict = {}\n",
    "    for nglac, glac_idx in enumerate(main_glac_rgi_missing.index.values):\n",
    "#     for nglac, glac_idx in enumerate([main_glac_rgi_missing.index.values[0]]):\n",
    "        glac_str = main_glac_rgi_missing.loc[glac_idx, 'rgino_str']\n",
    "        if glac_idx%500 == 0:\n",
    "            print(glac_idx, glac_str)\n",
    "        latlon_dist = (((main_glac_rgi_tsopt['CenLat'].values - main_glac_rgi_missing['CenLat'].values[glac_idx])**2 + \n",
    "                        (main_glac_rgi_tsopt['CenLon'].values - main_glac_rgi_missing['CenLon'].values[glac_idx])**2)**0.5)\n",
    "\n",
    "        latlon_nearidx_list = np.argsort(latlon_dist)[0:n_glac_nearest]\n",
    "        rgiid_nearest_list = list(main_glac_rgi_tsopt.loc[latlon_nearidx_list,'rgino_str'].values)\n",
    "\n",
    "        nearest_dict[glac_str] = rgiid_nearest_list\n",
    "\n",
    "    # Ts filenames\n",
    "    ts_fns_df = pd.read_csv(debris_prms.ts_fp + debris_prms.ts_fns_fn)\n",
    "    \n",
    "    for nglac, glac_idx in enumerate(main_glac_rgi_missing.index.values):\n",
    "#     for nglac, glac_idx in enumerate(main_glac_rgi_missing.index.values[4290:]):\n",
    "#     for nglac, glac_idx in enumerate([main_glac_rgi_missing.index.values[0]]):\n",
    "        glac_str = main_glac_rgi_missing.loc[glac_idx, 'rgino_str']\n",
    "        rgiid = main_glac_rgi_missing.loc[glac_idx,'RGIId']\n",
    "        region = glac_str.split('.')[0]\n",
    "\n",
    "        if int(region) < 10:\n",
    "            glac_str_noleadzero = str(int(glac_str.split('.')[0])) + '.' + glac_str.split('.')[1]\n",
    "        else:\n",
    "            glac_str_noleadzero = glac_str\n",
    "\n",
    "        # Ts filename\n",
    "        ts_fn_idx = np.where(ts_fns_df['RGIId'].values == rgiid)[0][0]\n",
    "        ts_fn = ts_fns_df.loc[ts_fn_idx,'ts_fullfn']\n",
    "        \n",
    "        # Hd filename\n",
    "        hd_fn = debris_prms.hd_fn_sample.replace('XXXX', glac_str_noleadzero).replace('.tif','_extrap.tif')\n",
    "\n",
    "        # Ice thickness filenames\n",
    "        thick_dir = debris_prms.oggm_fp + 'thickness/RGI60-' + str(region.zfill(2)) + '/'\n",
    "        thick_fn = 'RGI60-' + str(region.zfill(2)) + '.' + rgiid.split('.')[1] + '_thickness.tif'\n",
    "\n",
    "        # Record values from nearest for the melt factors after debris thickness is extrapolated\n",
    "        melt_2cm_nearest = None\n",
    "        melt_cleanice_nearest = None\n",
    "        func_coeff_nearest = None\n",
    "        \n",
    "        if ((not os.path.exists(hd_fp + hd_fn) or overwrite_hd) and os.path.exists(thick_dir + thick_fn) and \n",
    "            ts_fn not in ['0.0']):\n",
    "            \n",
    "            print(glac_idx, glac_str)\n",
    "            \n",
    "            # Create glacier feature\n",
    "            gf = create_glacfeat(thick_dir, thick_fn)\n",
    "        \n",
    "            # Debris shape layer processing\n",
    "            dc_shp_proj_fn = (debris_prms.glac_shp_proj_fp + glac_str + '_dc_crs' + \n",
    "                              str(gf.aea_srs.GetAttrValue(\"AUTHORITY\", 1)) + '.shp')\n",
    "            if not os.path.exists(dc_shp_proj_fn):\n",
    "                dc_shp_init = gpd.read_file(debris_prms.debriscover_fp + \n",
    "                                            debris_prms.debriscover_fn_dict[debris_prms.roi])\n",
    "                dc_shp_single = dc_shp_init[dc_shp_init['RGIId'] == rgiid]\n",
    "                dc_shp_single = dc_shp_single.reset_index()\n",
    "                dc_shp_proj = dc_shp_single.to_crs({'init': 'epsg:' + \n",
    "                                                    str(gf.aea_srs.GetAttrValue(\"AUTHORITY\", 1))})\n",
    "                dc_shp_proj.to_file(dc_shp_proj_fn)\n",
    "            dc_shp_ds = ogr.Open(dc_shp_proj_fn, 0)\n",
    "            dc_shp_lyr = dc_shp_ds.GetLayer()\n",
    "\n",
    "            # Add layers\n",
    "            gf.add_layers(dc_shp_lyr, gf_add_ts=True, ts_fn=ts_fn, gf_add_slope_aspect=False)\n",
    "\n",
    "            # ===== PLOTS =====\n",
    "            if debug:\n",
    "                # DEM\n",
    "                var_full2plot = gf.z1.copy()\n",
    "                clim = malib.calcperc(var_full2plot, (2,98))\n",
    "                plot_array(var_full2plot, clim, [glac_str + ' DEM'], 'inferno', 'elev (masl)', close_fig=False)\n",
    "                # Surface temperature\n",
    "                var_full2plot = gf.ts.copy()\n",
    "                clim = malib.calcperc(var_full2plot, (2,98))\n",
    "                plot_array(var_full2plot, clim, [glac_str + ' Ts'], 'inferno', 'ts (degC)', close_fig=False)\n",
    "                # Surface temperature (debris-covered)\n",
    "                var_full2plot = gf.ts.copy()\n",
    "                var_full2plot.mask = gf.dc_mask\n",
    "                clim = malib.calcperc(var_full2plot, (2,98))\n",
    "                plot_array(var_full2plot, clim, [glac_str + ' Ts'], 'inferno', 'ts (degC)', close_fig=False)\n",
    "            \n",
    "\n",
    "            # ===== SURFACE TEMPERATURE FOR THINNEST DEBRIS (connected to terminus) =====\n",
    "            outbins_df, z_bin_edges = gf.hist_plot(bin_width=debris_prms.mb_bin_size)   \n",
    "            bin_idx_dc = np.where(outbins_df['dc_bin_count_valid'] > 0)[0]\n",
    "            bin_idx_dif = list(bin_idx_dc[1:] - bin_idx_dc[:-1])\n",
    "            if not(np.sum(bin_idx_dif) == len(bin_idx_dc)-1):\n",
    "                idx_jumpinbins = bin_idx_dif.index(next(filter(lambda x: x>1, bin_idx_dif)))\n",
    "                bin_idx_dc = bin_idx_dc[0:idx_jumpinbins+1]\n",
    "            \n",
    "            ts_min = np.nanmin(outbins_df.loc[bin_idx_dc,'dc_ts_med'].values)\n",
    "            ts_max = np.nanmax(outbins_df.loc[bin_idx_dc,'dc_ts_med'].values)\n",
    "            \n",
    "            if debug:\n",
    "                print('ts_min:', np.round(ts_min,1), ' ts_max:', np.round(ts_max,1))\n",
    "            \n",
    "            if np.isnan(ts_min) and np.isnan(ts_max):\n",
    "                troubleshoot_fp = (debris_prms.output_fp + 'errors/no_Ts_data-extrap/' + debris_prms.roi + '/')\n",
    "                if not os.path.exists(troubleshoot_fp):\n",
    "                    os.makedirs(troubleshoot_fp)\n",
    "                txt_fn_extrapfail = glac_str + \"-noTs-extrap.txt\"\n",
    "                with open(troubleshoot_fp + txt_fn_extrapfail, \"w\") as text_file:\n",
    "                    text_file.write(glac_str + ' no surface temperature data but made it past preprocessing to extrap')\n",
    "\n",
    "            else:\n",
    "                # ===== ESTIMATE DEBRIS THICKNESS FOR EACH GLACIER INDIVIDUALLY =====\n",
    "                # Load parameters from nearest neighbor\n",
    "                rgiid_nearest_list = nearest_dict[main_glac_rgi_missing.loc[glac_idx, 'rgino_str']]\n",
    "\n",
    "                n_nearest = 0\n",
    "                n_success = 0\n",
    "                min_n_nearest = 10\n",
    "                hd_ts_list = []\n",
    "                mf_list = []\n",
    "                while n_nearest < n_glac_nearest and n_success < min_n_nearest:\n",
    "                    rgi_str_nearest = rgiid_nearest_list[n_nearest]\n",
    "                    if rgi_str_nearest.startswith('0'):\n",
    "                        rgi_str_nearest = rgi_str_nearest[1:]\n",
    "#                     if debug:\n",
    "#                         print(n_nearest, 'rgi nearest:', rgi_str_nearest)\n",
    "\n",
    "                    # Load parameters\n",
    "                    df_opt_fn = rgi_str_nearest + '_hdopt_prms.csv'\n",
    "                    roi_nearest = str(int(rgi_str_nearest.split('.')[0])).zfill(2)\n",
    "                    if roi_nearest in ['13','14','15']:\n",
    "                        roi_nearest = 'HMA'\n",
    "                    hdopt_prms_fp = debris_prms.output_fp + 'hd_opt_prms/' + roi_nearest + '/'\n",
    "                    df_opt = pd.read_csv(hdopt_prms_fp + df_opt_fn)\n",
    "                    melt_2cm = df_opt.loc[0,'melt_mwea_2cm']\n",
    "                    melt_cleanice = df_opt.loc[0,'melt_mwea_clean']\n",
    "                    func_coeff = [df_opt.loc[0,'b0'], df_opt.loc[0,'k']]\n",
    "                    func_coeff_ts = [df_opt.loc[0,'a'], df_opt.loc[0,'b'], df_opt.loc[0,'c']]\n",
    "                    \n",
    "                    if melt_2cm_nearest is None:\n",
    "                        melt_2cm_nearest = melt_2cm.copy()\n",
    "                        melt_cleanice_nearest = melt_cleanice.copy()\n",
    "                        func_coeff_nearest = func_coeff.copy()\n",
    "\n",
    "                    # Estimate debris thickness of thinnest bin\n",
    "                    hd_thin = debris_fromts_func(ts_min, func_coeff_ts[0], func_coeff_ts[1], func_coeff_ts[2])\n",
    "                    hd_thick = debris_fromts_func(ts_max, func_coeff_ts[0], func_coeff_ts[1], func_coeff_ts[2])\n",
    "                    \n",
    "                    if debug:\n",
    "                        print('     thin:', np.round(ts_min,1), np.round(hd_thin,3), 'm', \n",
    "                              '    thick:', np.round(ts_max,1), np.round(hd_thick,3), 'm')\n",
    "\n",
    "    #                 print(func_coeff_ts[0], func_coeff_ts[1], func_coeff_ts[2], ts_min, hd_thin)\n",
    "\n",
    "                    # Minimum and maximum debris thickness are reasonable\n",
    "                    if hd_thin > 0 and hd_thin < 0.2 and hd_thick < debris_prms.hd_max:\n",
    "\n",
    "                        if debug:\n",
    "                            print('  ', n_nearest, 'hd thin:', np.round(hd_thin,2), 'hd thick:', np.round(hd_thick,2))\n",
    "\n",
    "                        hd_array = debris_fromts_maskedarray(gf.ts, func_coeff_ts[0], func_coeff_ts[1], func_coeff_ts[2])\n",
    "                        hd_array[hd_array>debris_prms.hd_max] = debris_prms.hd_max\n",
    "                        hd_array[hd_array<0] = 0\n",
    "\n",
    "                        hd_ts_list.append(hd_array)\n",
    "                        n_success += 1\n",
    "\n",
    "                    n_nearest += 1\n",
    "                    \n",
    "                if len(hd_ts_list) == 0:\n",
    "                    # Record initial failure\n",
    "                    troubleshoot_fp = (debris_prms.output_fp + 'errors/extrap_failed_rnd1/' + debris_prms.roi + '/')\n",
    "                    if not os.path.exists(troubleshoot_fp):\n",
    "                        os.makedirs(troubleshoot_fp)\n",
    "                    txt_fn_extrapfail = glac_str + \"-extrap_failed_rnd1.txt\"\n",
    "                    with open(troubleshoot_fp + txt_fn_extrapfail, \"w\") as text_file:\n",
    "                        text_file.write(glac_str + ' failed to find any reasonable extrapolation estimates in first round')\n",
    "                    \n",
    "                    \n",
    "                # ===== SECOND ROUND: NEGATIVE VALUES CAUSE HD_THIN TO BE 0 =====\n",
    "                #  assume the absolute surface temperature is wrong, but spatial variation is representative\n",
    "                #  of debris thickness variations, so increase surface temperature until find good fit\n",
    "                if len(hd_ts_list) == 0 and ts_min < 0:\n",
    "                    \n",
    "                    if debug:\n",
    "                        print('\\n-----\\nROUND 2 OF EXTRAPOLATION')\n",
    "                    \n",
    "                    ts_offset = abs(ts_min)\n",
    "                    n_offset = 0\n",
    "                    while len(hd_ts_list) < 5 and n_offset < 20:\n",
    "                        gf.dc_ts = np.ma.array(gf.dc_ts.data.copy() + ts_offset, mask=gf.dc_ts.mask)\n",
    "#                             ts_array = gf.ts.data.copy() + ts_offset\n",
    "                        gf.ts = np.ma.array(gf.ts.data.copy() + ts_offset, mask=gf.ts.mask)\n",
    "                        outbins_df, z_bin_edges = gf.hist_plot(bin_width=debris_prms.mb_bin_size)\n",
    "                        ts_min = np.nanmin(outbins_df.loc[bin_idx_dc,'dc_ts_med'].values)\n",
    "                        ts_max = np.nanmax(outbins_df.loc[bin_idx_dc,'dc_ts_med'].values)\n",
    "                        # Estimate debris thickness of thinnest bin\n",
    "                        hd_thin = debris_fromts_func(ts_min, func_coeff_ts[0], func_coeff_ts[1], func_coeff_ts[2])\n",
    "                        hd_thick = debris_fromts_func(ts_max, func_coeff_ts[0], func_coeff_ts[1], func_coeff_ts[2])\n",
    "\n",
    "                        if debug:\n",
    "                            print('n_offset:', n_offset, ts_min, ts_max)\n",
    "\n",
    "                        # ===== ESTIMATE DEBRIS THICKNESS FOR EACH GLACIER INDIVIDUALLY =====\n",
    "                        # Load parameters from nearest neighbor\n",
    "                        rgiid_nearest_list = nearest_dict[main_glac_rgi_missing.loc[glac_idx, 'rgino_str']]\n",
    "\n",
    "                        n_nearest = 0\n",
    "                        n_success = 0\n",
    "                        min_n_nearest = 10\n",
    "                        hd_ts_list = []\n",
    "                        mf_list = []\n",
    "                        while n_nearest < n_glac_nearest and n_success < min_n_nearest:\n",
    "                            rgi_str_nearest = rgiid_nearest_list[n_nearest]\n",
    "                            if rgi_str_nearest.startswith('0'):\n",
    "                                rgi_str_nearest = rgi_str_nearest[1:]\n",
    "\n",
    "                            # Load parameters\n",
    "                            df_opt_fn = rgi_str_nearest + '_hdopt_prms.csv'\n",
    "                            roi_nearest = str(int(rgi_str_nearest.split('.')[0])).zfill(2)\n",
    "                            if roi_nearest in ['13','14','15']:\n",
    "                                roi_nearest = 'HMA'\n",
    "                            hdopt_prms_fp = debris_prms.output_fp + 'hd_opt_prms/' + roi_nearest + '/'\n",
    "                            df_opt = pd.read_csv(hdopt_prms_fp + df_opt_fn)\n",
    "                            melt_2cm = df_opt.loc[0,'melt_mwea_2cm']\n",
    "                            melt_cleanice = df_opt.loc[0,'melt_mwea_clean']\n",
    "                            func_coeff = [df_opt.loc[0,'b0'], df_opt.loc[0,'k']]\n",
    "                            func_coeff_ts = [df_opt.loc[0,'a'], df_opt.loc[0,'b'], df_opt.loc[0,'c']]\n",
    "\n",
    "                            # Estimate debris thickness of thinnest bin\n",
    "                            hd_thin = debris_fromts_func(ts_min, func_coeff_ts[0], func_coeff_ts[1], func_coeff_ts[2])\n",
    "                            hd_thick = debris_fromts_func(ts_max, func_coeff_ts[0], func_coeff_ts[1], func_coeff_ts[2])\n",
    "                            # Minimum and maximum debris thickness are reasonable\n",
    "                            if hd_thin > 0.01 and hd_thin < 0.2 and hd_thick < debris_prms.hd_max:\n",
    "\n",
    "                                if debug:\n",
    "                                    print('  ', n_nearest, 'hd thin:', np.round(hd_thin,2), 'hd thick:', np.round(hd_thick,2))\n",
    "\n",
    "                                hd_array = debris_fromts_maskedarray(gf.ts, func_coeff_ts[0], func_coeff_ts[1], func_coeff_ts[2])\n",
    "                                hd_array[hd_array>debris_prms.hd_max] = debris_prms.hd_max\n",
    "                                hd_array[hd_array<0] = 0\n",
    "\n",
    "                                hd_ts_list.append(hd_array)\n",
    "                                n_success += 1\n",
    "\n",
    "                            n_nearest += 1\n",
    "\n",
    "                        n_offset += 1\n",
    "                        ts_offset = 1\n",
    "                        \n",
    "                        \n",
    "                if len(hd_ts_list) == 0:\n",
    "                    # Record initial failure\n",
    "                    troubleshoot_fp = (debris_prms.output_fp + 'errors/extrap_failed_rnd2/' + debris_prms.roi + '/')\n",
    "                    if not os.path.exists(troubleshoot_fp):\n",
    "                        os.makedirs(troubleshoot_fp)\n",
    "                    txt_fn_extrapfail = glac_str + \"-extrap_failed_rnd2.txt\"\n",
    "                    with open(troubleshoot_fp + txt_fn_extrapfail, \"w\") as text_file:\n",
    "                        text_file.write(glac_str + ' failed to find any reasonable extrapolation estimates in second round')\n",
    "                    \n",
    "                # ===== THIRD ROUND: ASSUME TOO POSITIVE CAUSING HD TO BE VERY THICK =====\n",
    "                #  assume the absolute surface temperature is wrong, but spatial variation is representative\n",
    "                #  of debris thickness variations, so increase surface temperature until find good fit\n",
    "                if len(hd_ts_list) == 0 and ts_max > 20:\n",
    "                    \n",
    "                    if debug:\n",
    "                        print('\\n-----\\nROUND 3 OF EXTRAPOLATION')\n",
    "                    \n",
    "                    ts_offset = -1\n",
    "                    n_offset = 0\n",
    "                    while len(hd_ts_list) < 5 and n_offset < 20:\n",
    "                        gf.dc_ts = np.ma.array(gf.dc_ts.data.copy() + ts_offset, mask=gf.dc_ts.mask)\n",
    "                        gf.ts = np.ma.array(gf.ts.data.copy() + ts_offset, mask=gf.ts.mask)\n",
    "                        outbins_df, z_bin_edges = gf.hist_plot(bin_width=debris_prms.mb_bin_size)\n",
    "                        ts_min = np.nanmin(outbins_df.loc[bin_idx_dc,'dc_ts_med'].values)\n",
    "                        ts_max = np.nanmax(outbins_df.loc[bin_idx_dc,'dc_ts_med'].values)\n",
    "                        # Estimate debris thickness of thinnest bin\n",
    "                        hd_thin = debris_fromts_func(ts_min, func_coeff_ts[0], func_coeff_ts[1], func_coeff_ts[2])\n",
    "                        hd_thick = debris_fromts_func(ts_max, func_coeff_ts[0], func_coeff_ts[1], func_coeff_ts[2])\n",
    "\n",
    "                        if debug:\n",
    "                            print('n_offset:', n_offset, ts_min, ts_max)\n",
    "\n",
    "                        # ===== ESTIMATE DEBRIS THICKNESS FOR EACH GLACIER INDIVIDUALLY =====\n",
    "                        # Load parameters from nearest neighbor\n",
    "                        rgiid_nearest_list = nearest_dict[main_glac_rgi_missing.loc[glac_idx, 'rgino_str']]\n",
    "\n",
    "                        n_nearest = 0\n",
    "                        n_success = 0\n",
    "                        min_n_nearest = 10\n",
    "                        hd_ts_list = []\n",
    "                        mf_list = []\n",
    "                        while n_nearest < n_glac_nearest and n_success < min_n_nearest:\n",
    "                            rgi_str_nearest = rgiid_nearest_list[n_nearest]\n",
    "                            if rgi_str_nearest.startswith('0'):\n",
    "                                rgi_str_nearest = rgi_str_nearest[1:]\n",
    "\n",
    "                            # Load parameters\n",
    "                            df_opt_fn = rgi_str_nearest + '_hdopt_prms.csv'\n",
    "                            roi_nearest = str(int(rgi_str_nearest.split('.')[0])).zfill(2)\n",
    "                            if roi_nearest in ['13','14','15']:\n",
    "                                roi_nearest = 'HMA'\n",
    "                            hdopt_prms_fp = debris_prms.output_fp + 'hd_opt_prms/' + roi_nearest + '/'\n",
    "                            df_opt = pd.read_csv(hdopt_prms_fp + df_opt_fn)\n",
    "                            melt_2cm = df_opt.loc[0,'melt_mwea_2cm']\n",
    "                            melt_cleanice = df_opt.loc[0,'melt_mwea_clean']\n",
    "                            func_coeff = [df_opt.loc[0,'b0'], df_opt.loc[0,'k']]\n",
    "                            func_coeff_ts = [df_opt.loc[0,'a'], df_opt.loc[0,'b'], df_opt.loc[0,'c']]\n",
    "\n",
    "                            # Estimate debris thickness of thinnest bin\n",
    "                            hd_thin = debris_fromts_func(ts_min, func_coeff_ts[0], func_coeff_ts[1], func_coeff_ts[2])\n",
    "                            hd_thick = debris_fromts_func(ts_max, func_coeff_ts[0], func_coeff_ts[1], func_coeff_ts[2])\n",
    "                            # Minimum and maximum debris thickness are reasonable\n",
    "                            if hd_thin > 0.01 and hd_thin < 0.2 and hd_thick < debris_prms.hd_max:\n",
    "\n",
    "                                if debug:\n",
    "                                    print('  ', n_nearest, 'hd thin:', np.round(hd_thin,2), 'hd thick:', np.round(hd_thick,2))\n",
    "\n",
    "                                hd_array = debris_fromts_maskedarray(gf.ts, func_coeff_ts[0], func_coeff_ts[1], func_coeff_ts[2])\n",
    "                                hd_array[hd_array>debris_prms.hd_max] = debris_prms.hd_max\n",
    "                                hd_array[hd_array<0] = 0\n",
    "\n",
    "                                hd_ts_list.append(hd_array)\n",
    "                                n_success += 1\n",
    "\n",
    "                            n_nearest += 1\n",
    "\n",
    "                        n_offset += 1\n",
    "\n",
    "                # ===== ESTIMATE DEBRIS THICKNESS FROM ALL COMBINATIONS =====\n",
    "                if len(hd_ts_list) > 0:\n",
    "                    # DEBRIS THICKNESS based on median of the plausible nearest values\n",
    "                    hd_ts_all = np.array(hd_ts_list)\n",
    "                    hd_ts_med = np.median(hd_ts_all, axis=0)\n",
    "                    gf.debris_thick_ts = np.ma.array(hd_ts_med, mask=gf.dc_mask)\n",
    "\n",
    "                    if debug:\n",
    "                        close_fig=False\n",
    "                    else:\n",
    "                        close_fig=True\n",
    "\n",
    "                    # Debris thickness\n",
    "                    var_full2plot = gf.debris_thick_ts.copy()\n",
    "                    clim = (0,1)\n",
    "                    plot_array(var_full2plot, clim, [gf.glacnum + ' hd (from ts)'], 'inferno', 'hd (m)', \n",
    "                               fn=fig_extrap + gf.feat_fn +'_hd_ts.png', close_fig=close_fig)\n",
    "\n",
    "                    # ===== EXPORT DEBRIS THICKNESS AND MELT FACTOR TIFS ===== \n",
    "                    # Debris thickness\n",
    "                    gf.debris_thick_ts.mask = gf.dc_mask\n",
    "                    iolib.writeGTiff(gf.debris_thick_ts, hd_fp + hd_fn, gf.ds_dict['z1'])\n",
    "\n",
    "                    # Optimized parameters from nearest glacier for melt factor\n",
    "                    hdopt_cns = ['glac_str', 'melt_mwea_clean', 'melt_mwea_2cm', 'b0', 'k']\n",
    "                    df_hdopt_prms = pd.DataFrame(np.zeros((1,len(hdopt_cns))), columns=hdopt_cns)\n",
    "                    df_hdopt_prms['glac_str'] = glac_str\n",
    "                    df_hdopt_prms.loc[0,'melt_mwea_clean'] = melt_cleanice_nearest\n",
    "                    df_hdopt_prms.loc[0,'melt_mwea_2cm'] = melt_2cm_nearest\n",
    "                    df_hdopt_prms.loc[0,'b0'] = func_coeff_nearest[0]\n",
    "                    df_hdopt_prms.loc[0,'k'] = func_coeff_nearest[1]\n",
    "                    hdopt_prms_fp = debris_prms.output_fp + 'hd_opt_prms/' + debris_prms.roi + '/_extrap/'\n",
    "                    if not os.path.exists(hdopt_prms_fp):\n",
    "                        os.makedirs(hdopt_prms_fp)\n",
    "                    df_hdopt_prms.to_csv(hdopt_prms_fp + glac_str + '_hdopt_prms_extrap.csv', index=False)\n",
    "                    \n",
    "                    # Melt factor\n",
    "                    gf.meltfactor_ts = (\n",
    "                        melt_fromdebris_func(gf.debris_thick_ts, func_coeff_nearest[0], func_coeff_nearest[1]) \n",
    "                        / melt_cleanice_nearest)\n",
    "                    # limit melt rates to modeled 2 cm rate\n",
    "                    gf.meltfactor_ts = np.ma.array(\n",
    "                        maskedarray_gt(gf.meltfactor_ts, melt_2cm_nearest / melt_cleanice_nearest), \n",
    "                        mask=np.ma.getmask(gf.debris_thick_ts))\n",
    "                    # Linearly interpolate between 0 cm and 2 cm for the melt rate\n",
    "                    def meltfactor_0to2cm_adjustment(mf, melt_clean, melt_2cm, hd):\n",
    "                        \"\"\" Linearly interpolate melt factors between 0 and 2 cm \n",
    "                            based on clean ice and 2 cm sub-debris melt \"\"\"\n",
    "                        mf = np.nan_to_num(mf,0)\n",
    "                        mf[(hd >= 0) & (hd < 0.02)] = (\n",
    "                            1 + hd[(hd >= 0) & (hd < 0.02)] / 0.02 * (melt_2cm - melt_clean) / melt_clean)\n",
    "                        return mf\n",
    "                    gf.meltfactor_ts = np.ma.array(\n",
    "                        meltfactor_0to2cm_adjustment(gf.meltfactor_ts.data.copy(), melt_cleanice_nearest, \n",
    "                                                     melt_2cm_nearest, gf.debris_thick_ts.data), \n",
    "                        mask=np.ma.getmask(gf.debris_thick_ts))\n",
    "                    # Plot melt factor\n",
    "                    var_full2plot = gf.meltfactor_ts.copy()\n",
    "                    clim = (0,1.25)\n",
    "                    plot_array(var_full2plot, clim, [gf.glacnum + ' melt factor'], 'inferno', 'melt factor (-)', \n",
    "                               fn=fig_extrap + gf.feat_fn +'_mf.png', close_fig=True)\n",
    "\n",
    "                    gf.meltfactor_ts.mask = gf.dc_mask\n",
    "                    mf_fn = debris_prms.mf_fn_sample.replace('XXXX',gf.glacnum).replace('.tif','_extrap.tif')\n",
    "                    iolib.writeGTiff(gf.meltfactor_ts, mf_fp + mf_fn, gf.ds_dict['z1'])\n",
    "\n",
    "\n",
    "                    # ===== EXPORT THE BINNED DEBRIS THICKNESS AND MELT FACTOR =====\n",
    "                    # Output debris thickness\n",
    "                    outbins_df, z_bin_edges = gf.hist_plot(bin_width=debris_prms.mb_bin_size)\n",
    "                    hd_extrap_bin_fp = debris_prms.mb_binned_fp_wdebris_hdts + '../_wdebris_hdts_extrap/'\n",
    "                    if not os.path.exists(hd_extrap_bin_fp):\n",
    "                        os.makedirs(hd_extrap_bin_fp)\n",
    "                    outbins_df.to_csv(hd_extrap_bin_fp + glac_str + '_mb_bins_hdts_extrap.csv', index=False)\n",
    "\n",
    "                else:\n",
    "                    troubleshoot_fp = (debris_prms.output_fp + 'errors/extrap_failed/' + debris_prms.roi + '/')\n",
    "                    if not os.path.exists(troubleshoot_fp):\n",
    "                        os.makedirs(troubleshoot_fp)\n",
    "                    txt_fn_extrapfail = glac_str + \"-extrap_failed.txt\"\n",
    "                    with open(troubleshoot_fp + txt_fn_extrapfail, \"w\") as text_file:\n",
    "                        text_file.write(glac_str + ' failed to find any reasonable extrapolation estimates')"
   ]
  },
  {
   "cell_type": "code",
   "execution_count": 8,
   "metadata": {},
   "outputs": [],
   "source": [
    "# bin_idx_dc_thin = bin_idx_dc[-1]\n",
    "# outbins_df.loc[bin_idx_dc_thin, 'hd_ts_med_m']\n",
    "# outbins_df.loc[:,['bin_center_elev_m', 'dc_ts_med', 'hd_ts_med_m']]"
   ]
  },
  {
   "cell_type": "code",
   "execution_count": 9,
   "metadata": {},
   "outputs": [
    {
     "name": "stdout",
     "output_type": "stream",
     "text": [
      "\n",
      "DONE!\n",
      "\n"
     ]
    }
   ],
   "source": [
    "print('\\nDONE!\\n')"
   ]
  },
  {
   "cell_type": "code",
   "execution_count": null,
   "metadata": {},
   "outputs": [],
   "source": []
  }
 ],
 "metadata": {
  "kernelspec": {
   "display_name": "Python [conda env:debris_thickness_global]",
   "language": "python",
   "name": "conda-env-debris_thickness_global-py"
  },
  "language_info": {
   "codemirror_mode": {
    "name": "ipython",
    "version": 3
   },
   "file_extension": ".py",
   "mimetype": "text/x-python",
   "name": "python",
   "nbconvert_exporter": "python",
   "pygments_lexer": "ipython3",
   "version": "3.6.12"
  }
 },
 "nbformat": 4,
 "nbformat_minor": 2
}
